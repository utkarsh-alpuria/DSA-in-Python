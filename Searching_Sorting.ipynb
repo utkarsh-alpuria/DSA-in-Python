{
 "cells": [
  {
   "cell_type": "code",
   "execution_count": null,
   "metadata": {},
   "outputs": [],
   "source": []
  },
  {
   "cell_type": "markdown",
   "metadata": {},
   "source": [
    "### Linear Search ###\n",
    "**Pros**\n",
    "- Do not need a sorted array.\n",
    "\n",
    "**Cons**\n",
    "- Brute force, since we are comparing all the values.\n",
    "- Slow, time complexity O(n)"
   ]
  },
  {
   "cell_type": "code",
   "execution_count": 7,
   "metadata": {},
   "outputs": [],
   "source": [
    "def Linear_Search(array, item):\n",
    "\n",
    "    for i in range(len(array)):\n",
    "        if array[i] == item:\n",
    "            return i\n",
    "    return -1"
   ]
  },
  {
   "cell_type": "code",
   "execution_count": 8,
   "metadata": {},
   "outputs": [
    {
     "data": {
      "text/plain": [
       "4"
      ]
     },
     "execution_count": 8,
     "metadata": {},
     "output_type": "execute_result"
    }
   ],
   "source": [
    "a = [12, 34, 1, 67, 100, 134, 25, 60, 55]\n",
    "\n",
    "Linear_Search(a, 100)"
   ]
  },
  {
   "cell_type": "markdown",
   "metadata": {},
   "source": [
    "### Binary Search ###\n",
    "- Works only on sorted array"
   ]
  },
  {
   "cell_type": "code",
   "execution_count": 18,
   "metadata": {},
   "outputs": [],
   "source": [
    "# Binary search using recursion\n",
    "\n",
    "def Binary_Search(arr, low, high, item):\n",
    "\n",
    "    if low <= high:\n",
    "        #search\n",
    "        mid = (low + high)//2\n",
    "\n",
    "        if arr[mid] == item:\n",
    "            return mid\n",
    "        elif arr[mid] > item:\n",
    "            return Binary_Search(arr, low, mid-1, item)\n",
    "        else:\n",
    "            return Binary_Search(arr, mid+1, high, item)\n",
    "    else:\n",
    "        return -1"
   ]
  },
  {
   "cell_type": "code",
   "execution_count": 27,
   "metadata": {},
   "outputs": [
    {
     "data": {
      "text/plain": [
       "7"
      ]
     },
     "execution_count": 27,
     "metadata": {},
     "output_type": "execute_result"
    }
   ],
   "source": [
    "sorted_a = [1, 12, 25, 34, 55, 60, 67, 100, 134]\n",
    "\n",
    "Binary_Search(a, 0, len(a)-1, 100)"
   ]
  },
  {
   "cell_type": "markdown",
   "metadata": {},
   "source": [
    "**Why Prefer Binary Search?**\n",
    "- Linear Search -> O(n)\n",
    "- Sorting + Binary Search -> O(nlogn) + O(logn)\n",
    "- O(n) < O(nlogn) + O(logn) -> then why we prefer binary search?\n",
    "- Because, suppose we are searching K times and K in very large number.\n",
    "- K * O(n) > O(nlogn) + K * O(logn) -> since we do sorting only once while searching K times.\n",
    "- This is called Ammortized Cost."
   ]
  },
  {
   "cell_type": "markdown",
   "metadata": {},
   "source": [
    "### SORTING ###"
   ]
  },
  {
   "cell_type": "code",
   "execution_count": 8,
   "metadata": {},
   "outputs": [],
   "source": [
    "# Function to check if an array is sorted or not\n",
    "\n",
    "def is_sorted(array):\n",
    "    sorted = True\n",
    "    for i in range(len(array)-1):\n",
    "        if array[i] > array[i+1]:\n",
    "            sorted = False\n",
    "            break\n",
    "    return sorted"
   ]
  },
  {
   "cell_type": "code",
   "execution_count": 11,
   "metadata": {},
   "outputs": [
    {
     "data": {
      "text/plain": [
       "False"
      ]
     },
     "execution_count": 11,
     "metadata": {},
     "output_type": "execute_result"
    }
   ],
   "source": [
    "a = [12, 34, 1, 67, 100, 134, 25, 60, 55]\n",
    "is_sorted(a)"
   ]
  },
  {
   "cell_type": "markdown",
   "metadata": {},
   "source": [
    "**Monkey Sort**\n",
    "- Time complexity is Infinite(worst case)"
   ]
  },
  {
   "cell_type": "code",
   "execution_count": 16,
   "metadata": {},
   "outputs": [],
   "source": [
    "import random\n",
    "def Monkey_Sort(array):\n",
    "\n",
    "    while not is_sorted(array):\n",
    "        random.shuffle(array) # shuffels the array\n",
    "        print(array)\n",
    "    print(array)"
   ]
  },
  {
   "cell_type": "code",
   "execution_count": 17,
   "metadata": {},
   "outputs": [
    {
     "name": "stdout",
     "output_type": "stream",
     "text": [
      "[11, 56, 24, 12]\n",
      "[12, 24, 11, 56]\n",
      "[24, 56, 12, 11]\n",
      "[24, 12, 56, 11]\n",
      "[24, 56, 11, 12]\n",
      "[12, 56, 11, 24]\n",
      "[12, 11, 24, 56]\n",
      "[12, 56, 11, 24]\n",
      "[56, 12, 24, 11]\n",
      "[11, 56, 12, 24]\n",
      "[24, 12, 11, 56]\n",
      "[11, 12, 24, 56]\n",
      "[11, 12, 24, 56]\n"
     ]
    }
   ],
   "source": [
    "a = [12,24,11,56]\n",
    "Monkey_Sort(a)"
   ]
  },
  {
   "cell_type": "markdown",
   "metadata": {},
   "source": [
    "**BUBBLE SORT**\n",
    "- We pass the whole array and compare adjacent items -> we swap the position of item according to its value(bigger on right smaller on left)\n",
    "- In first pass the biggest element comest to right end.\n",
    "- then we pass the array again -> second biggest element comest to second last position on right -> continue\n",
    "\n",
    "**Example**:\n",
    "- 1st pass\n",
    "    - 9 5 4 1 3  -> swap 9 5\n",
    "    - 5 9 4 1 3  -> swap 9 4\n",
    "    - 5 4 9 1 3  -> swap 9 1\n",
    "    - 5 4 1 9 3  -> swap 9 3\n",
    "    - 5 4 1 3 9  (comparisons = 4)(swaps = 4)\n",
    "- 2nd pass\n",
    "    - 5 4 1 3 9  -> swap 5 4\n",
    "    - 4 5 1 3 9  -> swap 5 1\n",
    "    - 4 1 5 3 9  -> swap 5 3\n",
    "    - 4 1 3 5 9  (comparisons = 3)(swaps = 3)\n",
    "- 3rd pass\n",
    "    - 4 1 3 5 9  -> swap 4 1\n",
    "    - 1 4 3 5 9  -> swap 4 3\n",
    "    - 1 3 4 5 9  (comparisons = 2)(swaps = 2)\n",
    "- 4th pass\n",
    "    - 1 3 4 5 9  (comparisons = 1)(swaps = 0)(max possible swaps = 1)\n",
    "\n",
    "- 5 items -> no. of pass = 4 -> (i.e. n-1)\n",
    "- no. of comparisons (for time complexity) -> 4 + 3 + 2 + 1 -> (i.e. 1 + 2 + 3 ... + n-1)\n",
    "- no. of swaps -> 4 + 3 + 2 + 1 -> (i.e. 1 + 2 + 3 ... + n-1)  (order of swaps = O(n^2))\n",
    "- We know, 1 + 2 + 3 ... + n = n(n-1)/2 = n^2\n",
    "\n",
    "**Complexities**\n",
    "- Time Complexity(worst case) = O(n^2)\n",
    "- Space Complexity = O(1)\n",
    "\n",
    "**Adaptive**\n",
    "- A sorting algo falls in adaptive sort family if it takes advantage of existing order of array in input.\n",
    "- If the algorithim is able to detect that the given array is alrady sorted or partially sorted or not and reduce its number of operations accordingly.\n",
    "- Means the best case time complexity should be better than wthe orst case.\n",
    "- We can make the Bubble sort adaptive.\n",
    "\n",
    "**Stable**\n",
    "- A sorting algo is stable if the order of same values present in the array remains same.\n",
    "- i.e.  [6 1 **6** 3 4 8] after sorting should be [1 3 4 6 **6** 8] and not [1 3 4 **6** 6 8].\n",
    "- Bubble Sort is Stable Algorithim."
   ]
  },
  {
   "cell_type": "code",
   "execution_count": 58,
   "metadata": {},
   "outputs": [],
   "source": [
    "def Bubble_Sort(array):\n",
    "\n",
    "    # pass loops(n-1 times)\n",
    "    for i in range(len(array) - 1):\n",
    "        # adjacent comparisons loop\n",
    "        for j in range(len(array) - 1 - i): # we subtract i becoz after every pass i times are in correct position at end\n",
    "            \n",
    "            if array[j] > array[j+1]:\n",
    "                 array[j], array[j+1] = array[j+1], array[j]\n",
    "    return array\n",
    "\n",
    "# we are not creating any extra variable which will depend on size of array.\n",
    "# thus, Space Complexity is constant O(1)\n",
    "# Not Adaptive(if sorted array is give -> it will still do same no. of comparisions)\n",
    "\n",
    "\n",
    "def Adaptive_Bubble_Sort(array):\n",
    "    # pass loops(n-1 times)\n",
    "    for i in range(len(array) - 1):\n",
    "        swap_flag = 0\n",
    "        # adjacent comparisons loop\n",
    "        for j in range(len(array) - 1 - i): # we subtract i becoz after every pass i times are in correct position at end\n",
    "            \n",
    "            if array[j] > array[j+1]:\n",
    "                 array[j], array[j+1] = array[j+1], array[j]\n",
    "                 swap_flag + 1\n",
    "\n",
    "        if swap_flag == 0: # 0 means no swap was required in whole pass(array is sorted).\n",
    "            break\n",
    "    return array\n",
    "\n",
    "# Complexity Now\n",
    "# worst O(n^2)\n",
    "# best -> sorted array -> O(n)\n",
    "\n",
    "# This is Adapative now"
   ]
  },
  {
   "cell_type": "code",
   "execution_count": 19,
   "metadata": {},
   "outputs": [
    {
     "name": "stdout",
     "output_type": "stream",
     "text": [
      "[1, 3, 4, 5, 9]\n"
     ]
    }
   ],
   "source": [
    "unsorted_array = [9, 5, 4, 1, 3]\n",
    "print(Bubble_Sort(unsorted_array))"
   ]
  },
  {
   "cell_type": "markdown",
   "metadata": {},
   "source": [
    "**SELECTION SORT**\n",
    "- We will pass the array, taking first position as the position of smalletest item we declare starting itwm as min and compare it with item ahead it.\n",
    "- if ahed item is samller than min the new min is that ahead item and now we compare it with items ahead it.\n",
    "- we repeat this and now min is the smallest item -> we swap the min with the first item we started with.\n",
    "- After every pass smallest item is at the leftmost position.\n",
    "\n",
    "**Example**\n",
    "- 1st pass(i = 0 start with item at i)\n",
    "    - 8 9 1 3 7  -> min=8 -> start compare 8<9 -> compare 8>1 -> min change to 1\n",
    "    - 8 9 1 3 7  -> min=1 -> start compare 1<3 -> compare 1<7 -> pass end -> swap 8 with min(1)\n",
    "    - 1 9 8 3 7\n",
    "- 2nd pass(i = 1)\n",
    "    - 1 9 8 3 7  -> min=9 -> start compare 9>8 -> min change to 8\n",
    "    - 1 9 8 3 7  -> min=8 -> start compare 8>3 -> min change to 3\n",
    "    - 1 9 8 3 7  -> min=3 -> start compare 3<7 -> pass end -> swap 9 with min(3)\n",
    "    - 1 3 8 9 7\n",
    "- 3rd pass(i = 2)\n",
    "    - 1 3 8 9 7  -> min=8 -> start compare 8<9 -> compare 8>7 -> min change to 7\n",
    "    - 1 3 8 9 7  -> min=7 -> pass end -> swap 8 with min(7)\n",
    "    - 1 3 7 9 8\n",
    "- 4th pass(i = 3)\n",
    "    - 1 3 7 9 8  -> min=9 -> start compare 9>8 -> min change to 8\n",
    "    - 1 3 7 9 8  -> min=8 -> pass end -> swap 9 with min(8)\n",
    "    - 1 3 7 8 9\n",
    "\n",
    "- 5 items -> no. of pass = 4 -> (i.e. n-1)\n",
    "- no. of comparisons (for time complexity) -> 4 + 3 + 2 + 1 -> (i.e. 1 + 2 + 3 ... + n-1)\n",
    "- We know, 1 + 2 + 3 ... + n = n(n-1)/2 = n^2\n",
    "- no. of swaps = 1 + 1 + 1 + 1 = 4 (i.e. n-1) (order of swaps = O(n))\n",
    "\n",
    "**Complexities**\n",
    "- Time Complexity(worst case) = O(n^2)\n",
    "- Space Complexity = O(1)\n",
    "\n",
    "**Adaptive**\n",
    "- Selection Sort in NOT Adaptive\n",
    "\n",
    "**Stable**\n",
    "- NOT stable\n"
   ]
  },
  {
   "cell_type": "code",
   "execution_count": 59,
   "metadata": {},
   "outputs": [],
   "source": [
    "def Selection_Sort(array):\n",
    "    # pass loops\n",
    "    for i in range(len(array) - 1):\n",
    "        # print(\"Pass is\", i+1, \"*\"*30)\n",
    "        min = i\n",
    "        # print(\"current min is\", array[min])\n",
    "        for j in range(i+1 , len(array)):\n",
    "            # print(\"item to compare is\", array[j])\n",
    "            if array[j] < array[min]:\n",
    "                # print(\"item is smaller than min\")\n",
    "                min = j\n",
    "                # print(\"change min to\", array[min])\n",
    "        \n",
    "        array[i], array[min] = array[min], array[i]\n",
    "        # print(array)\n",
    "    return array\n",
    "\n",
    "# we are not creating any extra variable which will depend on size of array.\n",
    "# thus, Space Complexity is constant O(1)"
   ]
  },
  {
   "cell_type": "code",
   "execution_count": 54,
   "metadata": {},
   "outputs": [
    {
     "name": "stdout",
     "output_type": "stream",
     "text": [
      "[1, 3, 7, 8, 9]\n"
     ]
    }
   ],
   "source": [
    "unsorted_array = [8, 9, 1, 3, 7]\n",
    "print(Selection_Sort(unsorted_array))"
   ]
  },
  {
   "cell_type": "code",
   "execution_count": 66,
   "metadata": {},
   "outputs": [],
   "source": [
    "# Comparing time of Bubble and Selection Sort\n",
    "\n",
    "import random\n",
    "\n",
    "L1 = []\n",
    "\n",
    "for i in range(5000):\n",
    "    L1.append(random.randint(1,5000))\n",
    "\n",
    "L2 = L1[:] # cloning\n",
    "\n",
    "# L1 and L2 are 2 arrays with same 5000 elements"
   ]
  },
  {
   "cell_type": "code",
   "execution_count": 67,
   "metadata": {},
   "outputs": [
    {
     "name": "stdout",
     "output_type": "stream",
     "text": [
      "Time taken 1.6654767990112305\n"
     ]
    }
   ],
   "source": [
    "import time\n",
    "\n",
    "start = time.time()\n",
    "Bubble_Sort(L1)\n",
    "print(\"Time taken\", time.time() - start)"
   ]
  },
  {
   "cell_type": "code",
   "execution_count": 68,
   "metadata": {},
   "outputs": [
    {
     "name": "stdout",
     "output_type": "stream",
     "text": [
      "Time taken 0.63700270652771\n"
     ]
    }
   ],
   "source": [
    "start = time.time()\n",
    "Selection_Sort(L2)\n",
    "print(\"Time taken\", time.time() - start)"
   ]
  },
  {
   "cell_type": "markdown",
   "metadata": {},
   "source": [
    "- Selection Sort is faster than Bubble Sort in(Worst case scenario) because the no. of swaps is less.\n",
    "- But since Bubble Sort is Adaptive it performs better in best and average case scenario(partially and already sorted array)."
   ]
  },
  {
   "cell_type": "code",
   "execution_count": 69,
   "metadata": {},
   "outputs": [
    {
     "name": "stdout",
     "output_type": "stream",
     "text": [
      "Time taken 0.0\n"
     ]
    }
   ],
   "source": [
    "# now L1 is sorted already\n",
    "\n",
    "start = time.time()\n",
    "Adaptive_Bubble_Sort(L1)\n",
    "print(\"Time taken\", time.time() - start)"
   ]
  },
  {
   "cell_type": "markdown",
   "metadata": {},
   "source": [
    "**MERGE SORT**\n",
    "- Works on divide and conquer principle.\n",
    "- divide the array in to equal almost parts until you are left with array on single item -> array with single item is a sorted array.\n",
    "- create a function(Merge_Sorted) which takes to sorted array and gives a single array with all items of input arrays and is sorted.\n",
    "- start with single item aray and continue passing it to the function until you obtain the complete sorted array againg.\n",
    "\n",
    "**Example**\n",
    "\n",
    "**Complexities**\n",
    "- Time Complexity(worst case) = O(nlogn) (log base 2)\n",
    "- Space Complexity = O(1)\n",
    "\n",
    "**Adaptive**\n",
    "- Merge Sort is NOT Adaptive.\n",
    "\n",
    "**Stable**\n",
    "- Merge sort is Stable.\n"
   ]
  },
  {
   "cell_type": "code",
   "execution_count": 89,
   "metadata": {},
   "outputs": [],
   "source": [
    "def Merge_Sorted(array1, array2): # takes two sorted array as input\n",
    "\n",
    "    i = j = 0\n",
    "    merged = []\n",
    "    while i < len(array1) and j < len(array2):\n",
    "        \n",
    "        if array1[i] < array2[j]:\n",
    "            merged.append(array1[i])\n",
    "            i += 1\n",
    "        else:\n",
    "            merged.append(array2[j])\n",
    "            j += 1\n",
    "\n",
    "    # if length of array1 and array2 are not same\n",
    "    while i < len(array1):\n",
    "        merged.append(array1[i])\n",
    "        i += 1\n",
    "    while j < len(array2):\n",
    "        merged.append(array2[j])\n",
    "        j += 1\n",
    "\n",
    "    return merged # returns merged sorted array\n",
    "\n",
    "# Recursion\n",
    "def Merge_Sort(array):\n",
    "\n",
    "    if len(array) == 1: # base case (array with 1 item is always sorted)\n",
    "        return array\n",
    "\n",
    "    mid = len(array)//2\n",
    "\n",
    "    left = array[:mid]\n",
    "    right = array[mid:]\n",
    "\n",
    "    left = Merge_Sort(left)\n",
    "    right = Merge_Sort(right)\n",
    "\n",
    "    return Merge_Sorted(left, right)"
   ]
  },
  {
   "cell_type": "code",
   "execution_count": 90,
   "metadata": {},
   "outputs": [
    {
     "data": {
      "text/plain": [
       "[1, 2, 3, 4, 6, 7, 8, 11]"
      ]
     },
     "execution_count": 90,
     "metadata": {},
     "output_type": "execute_result"
    }
   ],
   "source": [
    "sorted_a1 = [1, 2, 6]\n",
    "sorted_a2 = [3, 4, 7, 8, 11]\n",
    "\n",
    "Merge_Sorted(sorted_a1, sorted_a2)"
   ]
  },
  {
   "cell_type": "code",
   "execution_count": 91,
   "metadata": {},
   "outputs": [
    {
     "data": {
      "text/plain": [
       "[2, 3, 4, 5, 7, 8, 9, 11]"
      ]
     },
     "execution_count": 91,
     "metadata": {},
     "output_type": "execute_result"
    }
   ],
   "source": [
    "unsorted_array = [3, 2, 7, 11, 4, 8, 5, 9]\n",
    "Merge_Sort(unsorted_array)"
   ]
  },
  {
   "cell_type": "code",
   "execution_count": 12,
   "metadata": {},
   "outputs": [],
   "source": [
    "# the above merge sort code has a space complexity of O(n+n) = O(2n)\n",
    "# one n due to recursion\n",
    "# second n due to new merged array we are creating everytime\n",
    "# to optimize this we can do changes in inplace array\n",
    "\n",
    "\n",
    "def Merge_Sorted_Optimized(array1, array2, array): \n",
    "\n",
    "    i = j = k = 0\n",
    "  \n",
    "    while i < len(array1) and j < len(array2):\n",
    "        \n",
    "        if array1[i] < array2[j]:\n",
    "            array[k] = array1[i]\n",
    "            i += 1\n",
    "            k += 1\n",
    "        else:\n",
    "            array[k] = array2[j]\n",
    "            j += 1\n",
    "            k += 1\n",
    "\n",
    "    while i < len(array1):\n",
    "        array[k] = array1[i]\n",
    "        i += 1\n",
    "        k += 1\n",
    "    while j < len(array2):\n",
    "        array[k] = array2[j]\n",
    "        j += 1\n",
    "        k += 1\n",
    "\n",
    "    return\n",
    "\n",
    "# Recursion\n",
    "def Merge_Sort_Optimized(array):\n",
    "\n",
    "    if len(array) == 1: # base case (array with 1 item is always sorted)\n",
    "        return array\n",
    "\n",
    "    mid = len(array)//2\n",
    "\n",
    "    left = array[:mid]\n",
    "    right = array[mid:]\n",
    "\n",
    "    Merge_Sort_Optimized(left)\n",
    "    Merge_Sort_Optimized(right)\n",
    "\n",
    "    Merge_Sorted_Optimized(left, right, array)\n",
    "\n",
    "    # this optimized code has a space complexity of O(n)\n"
   ]
  },
  {
   "cell_type": "code",
   "execution_count": 13,
   "metadata": {},
   "outputs": [
    {
     "name": "stdout",
     "output_type": "stream",
     "text": [
      "[2, 3, 4, 5, 7, 8, 9, 11]\n"
     ]
    }
   ],
   "source": [
    "unsorted_array = [3, 2, 7, 11, 4, 8, 5, 9]\n",
    "Merge_Sort_Optimized(unsorted_array)\n",
    "print(unsorted_array)"
   ]
  }
 ],
 "metadata": {
  "kernelspec": {
   "display_name": "Python 3",
   "language": "python",
   "name": "python3"
  },
  "language_info": {
   "codemirror_mode": {
    "name": "ipython",
    "version": 3
   },
   "file_extension": ".py",
   "mimetype": "text/x-python",
   "name": "python",
   "nbconvert_exporter": "python",
   "pygments_lexer": "ipython3",
   "version": "3.10.7"
  }
 },
 "nbformat": 4,
 "nbformat_minor": 2
}
