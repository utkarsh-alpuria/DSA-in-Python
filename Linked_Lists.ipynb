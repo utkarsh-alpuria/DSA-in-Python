{
 "cells": [
  {
   "cell_type": "code",
   "execution_count": null,
   "metadata": {},
   "outputs": [],
   "source": []
  },
  {
   "cell_type": "markdown",
   "metadata": {},
   "source": [
    "### LINKED LISTS ###\n",
    "\n",
    "- A Linear data structure which is used to store data in non continious memory locations.\n",
    "- Replacement of arrrays in many cases.\n",
    "- Collecetion of nodes.\n",
    "- **Node** is a object with 2 parts(Data & Address).\n",
    "- **Data** can be anything int, str, float etc.\n",
    "- **Address** is address of the next node.\n",
    "- First node is called head of linked list.\n",
    "- Last node is called tail(tail node is the node whose address part is null).\n",
    "\n",
    "**Advantage of Linked Lists over Arrays**\n",
    "\n",
    "- While insertion and deletion(write operations) in an array you have to shift all the items.\n",
    "- Therefore, if size of array increase the the number of itereations to shift will also increase i.e. O(n) complexity.\n",
    "- In Linked Lists the write operations complexity is O(1).\n",
    "- Lot of memory is unutilized in array(memory wastage).\n",
    "- We can create stacks, queue, Doubly LinkedList, Circular LinkedList using LL.\n",
    "\n",
    "**Flaw in Linked Lists**\n",
    "- Fetching and searching(read operations) take time in Linked Lists time complexity O(n).\n",
    "- For array read operation time complexity is O(1)."
   ]
  },
  {
   "cell_type": "markdown",
   "metadata": {},
   "source": [
    "**Create a Linked List manually**"
   ]
  },
  {
   "cell_type": "code",
   "execution_count": 1,
   "metadata": {},
   "outputs": [],
   "source": [
    "class Node:\n",
    "    def __init__(self, value):\n",
    "        self.data = value\n",
    "        self.next = None"
   ]
  },
  {
   "cell_type": "code",
   "execution_count": 8,
   "metadata": {},
   "outputs": [
    {
     "name": "stdout",
     "output_type": "stream",
     "text": [
      "<__main__.Node object at 0x0000016C1B3C4400>\n",
      "1 None\n"
     ]
    }
   ],
   "source": [
    "a = Node(1)\n",
    "print(a) # gives address of node object a in hexadecimal\n",
    "print(a.data, a.next)"
   ]
  },
  {
   "cell_type": "code",
   "execution_count": 5,
   "metadata": {},
   "outputs": [],
   "source": [
    "b = Node(2)\n",
    "c = Node(3)"
   ]
  },
  {
   "cell_type": "code",
   "execution_count": 13,
   "metadata": {},
   "outputs": [
    {
     "name": "stdout",
     "output_type": "stream",
     "text": [
      "id(a) = 1563825030144\n",
      "id(b) = 1563825159856\n",
      "id(c) = 1563825151696\n",
      "<__main__.Node object at 0x0000016C1B3C4400>\n",
      "<__main__.Node object at 0x0000016C1B3E3EB0>\n",
      "<__main__.Node object at 0x0000016C1B3E1ED0>\n",
      "1563825030144\n",
      "1563825159856\n",
      "1563825151696\n"
     ]
    }
   ],
   "source": [
    "# id() gives address in int\n",
    "print(f\"id(a) = {id(a)}\") # a is at 1563825030144\n",
    "print(f\"id(b) = {id(b)}\") # b is at 1563825159856\n",
    "print(f\"id(c) = {id(c)}\") # c is at 1563825151696\n",
    "\n",
    "# to confirm\n",
    "print(a) # address of a in hexadecimal\n",
    "print(b) # address of b in hexadecimal\n",
    "print(c) # address of c in hexadecimal\n",
    "\n",
    "# convert hexadecimal to int \n",
    "print(int(0x0000016C1B3C4400))\n",
    "print(int(0x0000016C1B3E3EB0))\n",
    "print(int(0x0000016C1B3E1ED0))\n"
   ]
  },
  {
   "cell_type": "code",
   "execution_count": null,
   "metadata": {},
   "outputs": [],
   "source": [
    "# to create linked list manually from nodes by building connection\n",
    "a.next = b\n",
    "b.next = c"
   ]
  },
  {
   "cell_type": "markdown",
   "metadata": {},
   "source": [
    "**Let's create a Linked List class**"
   ]
  },
  {
   "cell_type": "code",
   "execution_count": 18,
   "metadata": {},
   "outputs": [],
   "source": [
    "class Node:\n",
    "    def __init__(self, value):\n",
    "        self.data = value\n",
    "        self.next = None\n",
    "\n",
    "class LinkedList:\n",
    "    def __init__(self):\n",
    "        # Empty LinkedList i.e. LinkedList with zero nodes(head = None)\n",
    "        self.head = None # always refer LinkedList from its current head\n",
    "        self.n = 0 # current number of nodes in LinkedList\n",
    "    \n",
    "    def __len__(self):\n",
    "        return self.n\n",
    "\n",
    "    # Inserting in LinkedList\n",
    "    # at head\n",
    "    def insert_head(self, value):\n",
    "        new_node = Node(value) # create new node from given value\n",
    "        new_node.next = self.head # create connection\n",
    "        self.head = new_node # reassigning head of LL\n",
    "        self.n = self.n + 1 # incerment n\n",
    "    \n",
    "    # at tail(append)\n",
    "    def append(self, value):\n",
    "        new_node = Node(value)\n",
    "        if self.head == None: # when we try to append in empty LinkedList\n",
    "            self.head = new_node\n",
    "            self.n = self.n + 1\n",
    "            return # to stop furthur code to execute\n",
    "\n",
    "        current = self.head\n",
    "        # traverse to the last node (current.next != None)\n",
    "        while current.next != None:\n",
    "            current = current.next # at last iteration, now current is the last node\n",
    "        current.next = new_node\n",
    "        self.n = self.n + 1\n",
    "\n",
    "    # at middle(after a value)\n",
    "    def insert_after(self, after, value):\n",
    "        new_node = Node(value)\n",
    "        current = self.head\n",
    "        while current != None:\n",
    "            if current.data == after: # if value in LL\n",
    "                break # out of loop(current = not None)\n",
    "            current = current.next \n",
    "\n",
    "        # case1 break -> value is present (current = not None)\n",
    "        if current != None:\n",
    "            new_node.next = current.next\n",
    "            current.next = new_node\n",
    "            self.n = self.n + 1\n",
    "        # case2 complete loop to end node -> no value is present(current = None)\n",
    "        else:\n",
    "            return f\"ValueError - {after} not in LinkedList\"\n",
    "\n",
    "    # Traversing(printing) in linkedList\n",
    "    def __str__(self):\n",
    "        current = self.head\n",
    "        result = \"\"\n",
    "        while current != None:\n",
    "            result = result + str(current.data) + \"->\"\n",
    "            current = current.next\n",
    "        return(result[:-2])\n",
    "\n",
    "    # Deletion in LinkedList\n",
    "    # delete all\n",
    "    def clear(self):\n",
    "        self.head = None\n",
    "        self.n = 0\n",
    "\n",
    "    # from head\n",
    "    def delete_head(self):\n",
    "        if self.head == None: # if empty LL\n",
    "            return \"Empty LinkedList\"\n",
    "        self.head = self.head.next\n",
    "        self.n = self.n - 1\n",
    "\n",
    "    # from tail(pop)\n",
    "    def pop(self):\n",
    "        if self.head == None: # if empty LL\n",
    "            return \"Empty LinkedList\"\n",
    "\n",
    "        current = self.head\n",
    "        if current.next == None: # if only one item in LL\n",
    "            # that one item should be head \n",
    "            # this is a case of deleting head\n",
    "            self.delete_head()\n",
    "            return\n",
    "        # more than one item in LL   \n",
    "        # traverse to the sencond last node (current.next.next != None) and so on...\n",
    "        while current.next.next != None:\n",
    "            current = current.next\n",
    "        # after loop you are at 2nd last node(current = 2nd last node)\n",
    "        current.next = None\n",
    "        self.n =self.n - 1\n",
    "\n",
    "    # from middle(remove)\n",
    "    def remove(self, value):\n",
    "        if self.head == None: # if trying to remove from empty LL\n",
    "            return \"Empty LinkedList\"\n",
    "\n",
    "        if self.head.data == value: # if you are trying to delete head node\n",
    "            self.delete_head()\n",
    "            return\n",
    "\n",
    "        current = self.head\n",
    "        while current.next != None:\n",
    "            if current.next.data == value: # if value in LL\n",
    "                break # out of loop(current -> not None -> one previous the node to be removed)\n",
    "            current = current.next\n",
    "\n",
    "        #case1 complete loop -> value not present(current = tail Node)\n",
    "        if current.next == None:\n",
    "            return f\"VlaueError - {value} not in LinkedList\"\n",
    "        # case2 break -> value is present (current = not None)\n",
    "        else:\n",
    "            current.next = current.next.next # bypassing the node to be removed\n",
    "            self.n = self.n - 1\n",
    "\n",
    "    # Searching(reading) in LinkedList\n",
    "    # by value\n",
    "    def search(self, value):\n",
    "        current = self.head\n",
    "        position = 0\n",
    "        while current != None:\n",
    "            if current.data == value:\n",
    "                return position\n",
    "            current = current.next\n",
    "            position = position + 1  \n",
    "        return f\"{value} not in LinkedList\"\n",
    "    \n",
    "    # by position\n",
    "    def __getitem__(self, index):\n",
    "        current = self.head\n",
    "        position = 0\n",
    "        while current != None:\n",
    "            if position == index:\n",
    "                return current.data\n",
    "            current = current.next\n",
    "            position = position + 1  \n",
    "        return \"IndexError - index out of range\"\n",
    "    \n",
    "    def reverse(self):\n",
    "        previous_node = None\n",
    "        current_node = self.head\n",
    "        while current_node != None:\n",
    "            # order is important for below four steps\n",
    "            next_node = current_node.next\n",
    "            current_node.next = previous_node\n",
    "            previous_node = current_node\n",
    "            current_node = next_node\n",
    "        self.head = previous_node\n"
   ]
  },
  {
   "cell_type": "code",
   "execution_count": 19,
   "metadata": {},
   "outputs": [
    {
     "name": "stdout",
     "output_type": "stream",
     "text": [
      "\n"
     ]
    }
   ],
   "source": [
    "LL = LinkedList()\n",
    "print(LL)"
   ]
  },
  {
   "cell_type": "code",
   "execution_count": 20,
   "metadata": {},
   "outputs": [
    {
     "data": {
      "text/plain": [
       "4"
      ]
     },
     "execution_count": 20,
     "metadata": {},
     "output_type": "execute_result"
    }
   ],
   "source": [
    "LL.insert_head(1)\n",
    "LL.insert_head(2)\n",
    "LL.insert_head(3)\n",
    "LL.insert_head(4)\n",
    "\n",
    "len(LL)"
   ]
  },
  {
   "cell_type": "code",
   "execution_count": 21,
   "metadata": {},
   "outputs": [
    {
     "name": "stdout",
     "output_type": "stream",
     "text": [
      "4->3->2->1\n"
     ]
    }
   ],
   "source": [
    "print(LL)"
   ]
  },
  {
   "cell_type": "code",
   "execution_count": 22,
   "metadata": {},
   "outputs": [
    {
     "name": "stdout",
     "output_type": "stream",
     "text": [
      "4->3->2->1->5\n"
     ]
    },
    {
     "data": {
      "text/plain": [
       "5"
      ]
     },
     "execution_count": 22,
     "metadata": {},
     "output_type": "execute_result"
    }
   ],
   "source": [
    "LL.append(5)\n",
    "print(LL)\n",
    "len(LL)"
   ]
  },
  {
   "cell_type": "code",
   "execution_count": 23,
   "metadata": {},
   "outputs": [
    {
     "name": "stdout",
     "output_type": "stream",
     "text": [
      "4->6->3->2->1->5\n"
     ]
    }
   ],
   "source": [
    "LL.insert_after(4, 6)\n",
    "print(LL)"
   ]
  },
  {
   "cell_type": "code",
   "execution_count": 24,
   "metadata": {},
   "outputs": [
    {
     "name": "stdout",
     "output_type": "stream",
     "text": [
      "6->3->2->1->5\n"
     ]
    }
   ],
   "source": [
    "LL.delete_head()\n",
    "print(LL)\n"
   ]
  },
  {
   "cell_type": "code",
   "execution_count": 25,
   "metadata": {},
   "outputs": [
    {
     "name": "stdout",
     "output_type": "stream",
     "text": [
      "6->3->2->1\n"
     ]
    }
   ],
   "source": [
    "LL.pop()\n",
    "print(LL)"
   ]
  },
  {
   "cell_type": "code",
   "execution_count": 26,
   "metadata": {},
   "outputs": [
    {
     "name": "stdout",
     "output_type": "stream",
     "text": [
      "6->2->1\n"
     ]
    }
   ],
   "source": [
    "LL.remove(3)\n",
    "print(LL)"
   ]
  },
  {
   "cell_type": "code",
   "execution_count": 27,
   "metadata": {},
   "outputs": [
    {
     "data": {
      "text/plain": [
       "1"
      ]
     },
     "execution_count": 27,
     "metadata": {},
     "output_type": "execute_result"
    }
   ],
   "source": [
    "LL.search(2)"
   ]
  },
  {
   "cell_type": "code",
   "execution_count": 28,
   "metadata": {},
   "outputs": [
    {
     "data": {
      "text/plain": [
       "2"
      ]
     },
     "execution_count": 28,
     "metadata": {},
     "output_type": "execute_result"
    }
   ],
   "source": [
    "LL[1]"
   ]
  },
  {
   "cell_type": "code",
   "execution_count": 29,
   "metadata": {},
   "outputs": [
    {
     "name": "stdout",
     "output_type": "stream",
     "text": [
      "1->2->6\n"
     ]
    }
   ],
   "source": [
    "LL.reverse()\n",
    "print(LL)"
   ]
  },
  {
   "cell_type": "markdown",
   "metadata": {},
   "source": [
    "- Read heavy application -> use Dynamic Array\n",
    "- Write heavy application -> use LinkedLists"
   ]
  }
 ],
 "metadata": {
  "kernelspec": {
   "display_name": "Python 3",
   "language": "python",
   "name": "python3"
  },
  "language_info": {
   "codemirror_mode": {
    "name": "ipython",
    "version": 3
   },
   "file_extension": ".py",
   "mimetype": "text/x-python",
   "name": "python",
   "nbconvert_exporter": "python",
   "pygments_lexer": "ipython3",
   "version": "3.10.7"
  }
 },
 "nbformat": 4,
 "nbformat_minor": 2
}
