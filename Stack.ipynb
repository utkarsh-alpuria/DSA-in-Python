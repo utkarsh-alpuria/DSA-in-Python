{
 "cells": [
  {
   "cell_type": "code",
   "execution_count": null,
   "metadata": {},
   "outputs": [],
   "source": []
  },
  {
   "cell_type": "markdown",
   "metadata": {},
   "source": [
    "### STACK ###\n",
    "\n",
    "- LIFO (Last in First out).\n",
    "- Stack can be created from both LinkedList and Array.\n",
    "- It is like a container with one end close.\n",
    "- All actions will happen from top(head if stack is created from LL).\n",
    "- LIFO principle is used alot in real world problems.\n",
    "\n",
    "**Methods in Stack**\n",
    "- **push** - inserting elamaent from top.\n",
    "- **pop** - removing top element.\n",
    "- **peek** - seeing what is the top item.\n",
    "- **isempty** - tells is stack is empty or not.\n",
    "- **size** - current number of items in stack.\n"
   ]
  },
  {
   "cell_type": "markdown",
   "metadata": {},
   "source": [
    "**Stack form LinkedList**\n",
    "\n",
    "- Every item has address of item below it(from top to bottom).\n",
    "- Bottom most item points to None."
   ]
  },
  {
   "cell_type": "code",
   "execution_count": 46,
   "metadata": {},
   "outputs": [],
   "source": [
    "class Node:\n",
    "    def __init__(self, value):\n",
    "        self.data = value\n",
    "        self.next = None\n",
    "\n",
    "class Stack:\n",
    "    def __init__(self):\n",
    "        self.top = None\n",
    "    \n",
    "    def isempty(self):\n",
    "        return self.top == None\n",
    "    \n",
    "    def push(self, value):\n",
    "        new_node = Node(value)\n",
    "        new_node.next = self.top\n",
    "        self.top = new_node\n",
    "        \n",
    "    def peek(self):\n",
    "        if self.isempty():\n",
    "            return \"Stack Empty\"\n",
    "        else:\n",
    "            return self.top.data\n",
    "        \n",
    "    def pop(self):\n",
    "        if self.isempty():\n",
    "            return \"Stack Empty\"\n",
    "        else:\n",
    "            poped_data = self.top.data\n",
    "            self.top = self.top.next\n",
    "            return poped_data\n",
    "        \n",
    "    def size(self):\n",
    "        current = self.top\n",
    "        size_count = 0\n",
    "        while current != None:\n",
    "            size_count += 1\n",
    "            current = current.next\n",
    "        return size_count\n",
    "\n",
    "    def traverse(self):\n",
    "        current = self.top\n",
    "        while current != None:\n",
    "            print(current.data)\n",
    "            current = current.next\n"
   ]
  },
  {
   "cell_type": "code",
   "execution_count": 47,
   "metadata": {},
   "outputs": [
    {
     "data": {
      "text/plain": [
       "True"
      ]
     },
     "execution_count": 47,
     "metadata": {},
     "output_type": "execute_result"
    }
   ],
   "source": [
    "s = Stack()\n",
    "s.isempty()"
   ]
  },
  {
   "cell_type": "code",
   "execution_count": 48,
   "metadata": {},
   "outputs": [
    {
     "name": "stdout",
     "output_type": "stream",
     "text": [
      "5\n",
      "4\n",
      "3\n"
     ]
    }
   ],
   "source": [
    "s.push(3)\n",
    "s.push(4)\n",
    "s.push(5)\n",
    "s.traverse()"
   ]
  },
  {
   "cell_type": "code",
   "execution_count": 49,
   "metadata": {},
   "outputs": [
    {
     "data": {
      "text/plain": [
       "5"
      ]
     },
     "execution_count": 49,
     "metadata": {},
     "output_type": "execute_result"
    }
   ],
   "source": [
    "s.peek()"
   ]
  },
  {
   "cell_type": "code",
   "execution_count": 50,
   "metadata": {},
   "outputs": [
    {
     "data": {
      "text/plain": [
       "5"
      ]
     },
     "execution_count": 50,
     "metadata": {},
     "output_type": "execute_result"
    }
   ],
   "source": [
    "s.pop()"
   ]
  },
  {
   "cell_type": "code",
   "execution_count": 51,
   "metadata": {},
   "outputs": [
    {
     "name": "stdout",
     "output_type": "stream",
     "text": [
      "4\n",
      "3\n"
     ]
    }
   ],
   "source": [
    "s.traverse()"
   ]
  },
  {
   "cell_type": "code",
   "execution_count": 52,
   "metadata": {},
   "outputs": [
    {
     "data": {
      "text/plain": [
       "2"
      ]
     },
     "execution_count": 52,
     "metadata": {},
     "output_type": "execute_result"
    }
   ],
   "source": [
    "s.size()"
   ]
  },
  {
   "cell_type": "markdown",
   "metadata": {},
   "source": [
    "**Question Based on Stack**\n",
    "\n",
    "Q1 - Reverse a string using stack"
   ]
  },
  {
   "cell_type": "code",
   "execution_count": 31,
   "metadata": {},
   "outputs": [
    {
     "name": "stdout",
     "output_type": "stream",
     "text": [
      "dlrow olleh\n"
     ]
    }
   ],
   "source": [
    "# Answer 1) \n",
    "\n",
    "def reverse_string(string):\n",
    "\n",
    "    s1 = Stack()\n",
    "    for i in string:\n",
    "        s1.push(i)\n",
    "\n",
    "    new_string = \"\"\n",
    "    while not s1.isempty():\n",
    "        new_string = new_string + s1.pop()\n",
    "\n",
    "    return(new_string)\n",
    "\n",
    "print(reverse_string(\"hello world\"))\n",
    "\n",
    "# time complexity = O(n)\n",
    "# space complexity = O(n)\n",
    "# therefore, we never use stack to reverse a string "
   ]
  },
  {
   "cell_type": "markdown",
   "metadata": {},
   "source": [
    "Q2 - Text Editor\n",
    "\n",
    "- given a word and a pattern denoting operations on word edit the word accoring to pattern.\n",
    "\n",
    "**Example** \n",
    "- word = \"Hello\"\n",
    "- pattern = \"uruu\" (u, r - undo, redo)\n",
    "- (u - Hell) -> (r - Hello) -> (u - Hell) -> (u -> Hel)\n"
   ]
  },
  {
   "cell_type": "code",
   "execution_count": 45,
   "metadata": {},
   "outputs": [
    {
     "name": "stdout",
     "output_type": "stream",
     "text": [
      "Hel\n"
     ]
    }
   ],
   "source": [
    "# Answer 2)\n",
    "\n",
    "def text_editor(word, pattern):\n",
    "\n",
    "    u_stack = Stack()\n",
    "    r_stack = Stack()\n",
    "\n",
    "    # push complete word in undo stack\n",
    "    for i in word:\n",
    "        u_stack.push(i)\n",
    "\n",
    "    # iterate the pattern\n",
    "    for i in pattern:\n",
    "        if i == \"u\": # if command is undo\n",
    "            u_poped_item = u_stack.pop() # remove the last letter from undo stack\n",
    "            r_stack.push(u_poped_item) # push collected letter in redo stack\n",
    "        elif i == \"r\": # elif command is redo\n",
    "            r_poped_item = r_stack.pop() # remove last letter from undo stack\n",
    "            u_stack.push(r_poped_item) # push collected letter back to uno stack\n",
    "\n",
    "    result = \"\"\n",
    "    while not u_stack.isempty():\n",
    "        result = u_stack.pop() + result\n",
    "\n",
    "    return result\n",
    "\n",
    "print(text_editor(\"Hello\", \"uruu\"))\n"
   ]
  },
  {
   "cell_type": "markdown",
   "metadata": {},
   "source": [
    "Q3 - Celebrity Problem\n",
    "\n",
    "- In a party of N people, only one person is known to everyone. Such a person may be present at the party, if yes, (s)he doesn’t know anyone at the party. We can only ask questions like “does A know B? “. Find the stranger (celebrity) in the minimum number of questions.\n",
    "- We can describe the problem input as an array of numbers/characters representing persons in the party. We also have a hypothetical function HaveAcquaintance(A, B) which returns true if A knows B, and false otherwise. How can we solve the problem? \n",
    "- Row in input matrix represent person (A, B, C, D...)\n",
    "- Column in input matrix also represent person (A, B, C, D...)\n",
    "- 1 means person in row knows person in column.\n",
    "- 0 means person in row doesn't knows person in column.\n",
    "\n",
    "**Example 1**\n",
    "- Input: matrix = [[0, 0, 1, 0], [0, 0, 1, 0], [0, 0, 0, 0], [0, 0, 1, 0] ]\n",
    "- Output: id = 2\n",
    "- Explanation: The person with ID 2 does not know anyone but everyone knows him\n",
    "\n",
    "**Example 2**\n",
    "- Input: matrix = [ [0, 0, 1, 0], [0, 0, 1, 0], [0, 1, 0, 0], [0, 0, 1, 0] ]\n",
    "- Output: No celebrity\n",
    "- Explanation: There is no celebrity."
   ]
  },
  {
   "cell_type": "code",
   "execution_count": 58,
   "metadata": {},
   "outputs": [
    {
     "name": "stdout",
     "output_type": "stream",
     "text": [
      "Output =  2\n",
      "Output =  No Celebrity\n"
     ]
    }
   ],
   "source": [
    "# Answer 3) \n",
    "# more than 1 celebrity is not possible\n",
    "\n",
    "# first we will eliminate the ones who are not celebrity(i.e. they are not known by atleast one person)\n",
    "# then :\n",
    "# case 1: no one is left --> no celebrity\n",
    "# case 2: one person is left --> we check if it is known by everyone --> if yes then pass its index else no celebrity\n",
    "\n",
    "# let id of person(A,B,C,D...) be (0,1,2,3...) respectively\n",
    "# push all the person id in stack \n",
    "def find_celebrity(matrix):\n",
    "    s = Stack()\n",
    "    for id in range(len(matrix)):\n",
    "        s.push(id)\n",
    "\n",
    "    # taking two persons out at a time and checking woh is definitly not a celebrity\n",
    "    while s.size() >= 2:\n",
    "        i = s.pop()\n",
    "        j = s.pop()\n",
    "        if matrix[i][j] == 0: # i don't know j --> j is not a celebrity \n",
    "            s.push(i) # push i back in satck\n",
    "        else: # i know j --> i cannot be a celebrity\n",
    "            s.push(j) # 3 push j back in stack\n",
    "\n",
    "    possible_celeb = s.pop() # at end of loop one or no person is left.\n",
    "\n",
    "    # now check relation of possible_celeb with everyone except itself\n",
    "    for id in range(len(matrix)):\n",
    "        if id != possible_celeb: #if not equal to itself\n",
    "            if matrix[id][possible_celeb] == 0 or matrix[possible_celeb][id] == 1:\n",
    "                return \"No Celebrity\"\n",
    "    \n",
    "    return possible_celeb\n",
    "\n",
    "relation_matrix_1 = [[0, 0, 1, 0],\n",
    "                     [0, 0, 1, 0],\n",
    "                     [0, 0, 0, 0],\n",
    "                     [0, 0, 1, 0]] # 2 is celebrity\n",
    "\n",
    "relation_matrix_2 = [[0, 0, 1, 0],\n",
    "                     [0, 0, 1, 0],\n",
    "                     [0, 1, 0, 0],\n",
    "                     [0, 0, 1, 0]] # No celebrity\n",
    "\n",
    "print(\"Output = \", find_celebrity(relation_matrix_1))\n",
    "print(\"Output = \", find_celebrity(relation_matrix_2))\n",
    "\n",
    "# we are solving a matrix problem in O(n) time complexity, which is a very good approach"
   ]
  },
  {
   "cell_type": "markdown",
   "metadata": {},
   "source": [
    "Q4 - Balanced Bracket\n",
    "for a given mathematical expression find if brackets are properly opened and closed with meaningful order.\n",
    "\n",
    "**Example**\n",
    "\n",
    "- [{(a + b) + (c + d)}] --> True\n",
    "- [[a + b)] --> False"
   ]
  },
  {
   "cell_type": "code",
   "execution_count": null,
   "metadata": {},
   "outputs": [],
   "source": [
    "# Answer 4) Logic\n",
    "\n",
    "# iterate the string\n",
    "# if encounter a opening bracket --> push it in stack\n",
    "# if encounter a closing bracket --> peek in stack and check the last opening bracket\n",
    "# if bracket pair match pop the last opening bracket\n",
    "# else not --> match --> return False\n",
    "\n",
    "# Try code here"
   ]
  },
  {
   "cell_type": "markdown",
   "metadata": {},
   "source": [
    "**Stack from Arrays**\n",
    "\n",
    "- In python there are no arrays like in (java, C++, etc).\n",
    "- In python we have list which is implemented in such a way that it can be directly used as a Stack.\n",
    "- considering last element of list as the top item of stack.\n",
    "- **append** method can be used to add top item.\n",
    "- **pop** method can be used to remove the top item.\n",
    "- **List[-1]** can be used as peek method.\n",
    "- if **len(List) == 0** then stack isempty == True.\n",
    "\n",
    "but we are going to create a stack class using python list as arrays."
   ]
  },
  {
   "cell_type": "code",
   "execution_count": 30,
   "metadata": {},
   "outputs": [],
   "source": [
    "class Stack:\n",
    "    def __init__(self, size): # we take size cause normal array is fixed in size\n",
    "        self.size = size\n",
    "        self.__stack = [None] * self.size # creating a array in memory of given size\n",
    "        self.top = -1\n",
    "    \n",
    "    def push(self, value):\n",
    "        if self.top == self.size - 1:\n",
    "            return \"OverFlow\"\n",
    "        else:\n",
    "            self.top += 1\n",
    "            self.__stack[self.top] = value\n",
    "\n",
    "    def pop(self):\n",
    "        if self.top == -1:\n",
    "            return \"Empty Stack\"\n",
    "        else:\n",
    "            data = self.__stack[self.top]\n",
    "            self.top -= 1\n",
    "            return data\n",
    "        \n",
    "    def traverse(self):\n",
    "        for i in range(self.top + 1):\n",
    "            print(self.__stack[i], end=\" \")"
   ]
  },
  {
   "cell_type": "code",
   "execution_count": 31,
   "metadata": {},
   "outputs": [],
   "source": [
    "s = Stack(3)"
   ]
  },
  {
   "cell_type": "code",
   "execution_count": 32,
   "metadata": {},
   "outputs": [
    {
     "name": "stdout",
     "output_type": "stream",
     "text": [
      "5 6 7 "
     ]
    }
   ],
   "source": [
    "s.push(5)\n",
    "s.push(6)\n",
    "s.push(7)\n",
    "s.traverse()"
   ]
  },
  {
   "cell_type": "code",
   "execution_count": 33,
   "metadata": {},
   "outputs": [
    {
     "data": {
      "text/plain": [
       "'OverFlow'"
      ]
     },
     "execution_count": 33,
     "metadata": {},
     "output_type": "execute_result"
    }
   ],
   "source": [
    "s.push(8)"
   ]
  },
  {
   "cell_type": "code",
   "execution_count": 34,
   "metadata": {},
   "outputs": [
    {
     "data": {
      "text/plain": [
       "7"
      ]
     },
     "execution_count": 34,
     "metadata": {},
     "output_type": "execute_result"
    }
   ],
   "source": [
    "s.pop()"
   ]
  },
  {
   "cell_type": "code",
   "execution_count": 35,
   "metadata": {},
   "outputs": [
    {
     "name": "stdout",
     "output_type": "stream",
     "text": [
      "5 6 "
     ]
    }
   ],
   "source": [
    "s.traverse()"
   ]
  }
 ],
 "metadata": {
  "kernelspec": {
   "display_name": "Python 3",
   "language": "python",
   "name": "python3"
  },
  "language_info": {
   "codemirror_mode": {
    "name": "ipython",
    "version": 3
   },
   "file_extension": ".py",
   "mimetype": "text/x-python",
   "name": "python",
   "nbconvert_exporter": "python",
   "pygments_lexer": "ipython3",
   "version": "3.10.7"
  }
 },
 "nbformat": 4,
 "nbformat_minor": 2
}
