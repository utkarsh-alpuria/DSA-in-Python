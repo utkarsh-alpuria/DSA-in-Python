{
 "cells": [
  {
   "cell_type": "code",
   "execution_count": null,
   "metadata": {},
   "outputs": [],
   "source": []
  },
  {
   "attachments": {
    "Flight_Graph-2.png": {
     "image/png": "[encoded data removed]"
    }
   },
   "cell_type": "markdown",
   "metadata": {},
   "source": [
    "### GRAPH ###\n",
    "\n",
    "- Facebook friend suggetions, flight routes, amazon product recommendations, google maps etc.\n",
    "- Difference between graph and tree is, in tree there is only one path between two nodes.\n",
    "- If edges have a value(weights), graph is called weighted graph.\n",
    "  \n",
    "  ![Flight_Graph-2.png](attachment:Flight_Graph-2.png)\n",
    "- **All Paths** (Mumbai to New York)\n",
    "  - Mumbai -> Paris -> New York\n",
    "  - Mumbai -> Paris -> Dubai -> New York\n",
    "  - Mumbai -> Dubai -> New York\n",
    "- **Shortes Path** (Minimum Stops)\n",
    "  - Mumbai -> Paris -> New York\n",
    "  - Mumbai -> Dubai -> New York\n",
    "- For implementation, the connection between two cities(nodes) can be represented as a pair(We can create the pair with Tuple in python). Each pair is a route(edge).\n"
   ]
  },
  {
   "cell_type": "code",
   "execution_count": 5,
   "metadata": {},
   "outputs": [
    {
     "name": "stdout",
     "output_type": "stream",
     "text": [
      "[['Mumbai', 'Paris', 'Dubai', 'New York'], ['Mumbai', 'Paris', 'New York'], ['Mumbai', 'Dubai', 'New York']]\n",
      "['Mumbai', 'Paris', 'New York']\n"
     ]
    }
   ],
   "source": [
    "class Graph:\n",
    "    def __init__(self, edges):\n",
    "        self.edges = edges # routes as edges\n",
    "        self.graph_dict = {}\n",
    "        for start, end in self.edges: # convert edge pair into dtictionary\n",
    "            if start in self.graph_dict:\n",
    "                self.graph_dict[start].append(end)\n",
    "            else:\n",
    "                self.graph_dict[start] = [end] \n",
    "        # print(self.graph_dict) # {'Mumbai': ['Paris', 'Dubai'], 'Paris': ['Dubai', 'New York'], 'Dubai': ['New York'], 'New York': ['Toronto']}\n",
    "\n",
    "    def get_paths(self, start, end, path=[]):\n",
    "        path = path + [start]\n",
    "\n",
    "        # (base case)when user give same start and end\n",
    "        if start == end:\n",
    "            return [path]\n",
    "        \n",
    "        # (corner case)when user give a start with no starting edge(e.g. Toronto has no starting edge)\n",
    "        if start not in self.graph_dict: # all start with starting edge are keys in graph_dict\n",
    "            return []\n",
    "        \n",
    "        # (main case)\n",
    "        paths = [] # all possible paths\n",
    "        for node in self.graph_dict[start]:\n",
    "            if node not in path: # if place is not visited in path\n",
    "                new_paths = self.get_paths(node, end, path)\n",
    "                for p in new_paths:\n",
    "                    paths.append(p)\n",
    "        return paths\n",
    "    \n",
    "    def get_shortest_path(self, start, end, path=[]):\n",
    "        path = path + [start]\n",
    "\n",
    "        if start == end:\n",
    "            return path\n",
    "        \n",
    "        if start not in self.graph_dict:\n",
    "            return None\n",
    "        \n",
    "        shortest_path = None\n",
    "        for node in self.graph_dict[start]:\n",
    "            if node not in path:\n",
    "                sp = self.get_shortest_path(node, end, path)\n",
    "                if sp:\n",
    "                    if shortest_path is None or len(sp) < len(shortest_path):\n",
    "                        shortest_path = sp\n",
    "        return shortest_path\n",
    "    \n",
    "routes = [(\"Mumbai\", \"Paris\"),\n",
    "          (\"Mumbai\", \"Dubai\"),\n",
    "          (\"Paris\", \"Dubai\"),\n",
    "          (\"Paris\", \"New York\"),\n",
    "          (\"Dubai\", \"New York\"),\n",
    "          (\"New York\", \"Toronto\")]\n",
    "\n",
    "routes_graph = Graph(routes)\n",
    "\n",
    "print(routes_graph.get_paths(\"Mumbai\", \"New York\"))\n",
    "print(routes_graph.get_shortest_path(\"Mumbai\", \"New York\"))\n"
   ]
  }
 ],
 "metadata": {
  "kernelspec": {
   "display_name": "Python 3",
   "language": "python",
   "name": "python3"
  },
  "language_info": {
   "codemirror_mode": {
    "name": "ipython",
    "version": 3
   },
   "file_extension": ".py",
   "mimetype": "text/x-python",
   "name": "python",
   "nbconvert_exporter": "python",
   "pygments_lexer": "ipython3",
   "version": "3.10.7"
  }
 },
 "nbformat": 4,
 "nbformat_minor": 2
}
