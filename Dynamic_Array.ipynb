{
 "cells": [
  {
   "cell_type": "code",
   "execution_count": 1,
   "metadata": {},
   "outputs": [],
   "source": [
    "!python -m venv .venv"
   ]
  },
  {
   "cell_type": "markdown",
   "metadata": {},
   "source": [
    "### DYNAMIC ARRAYS ###\n"
   ]
  },
  {
   "cell_type": "code",
   "execution_count": 110,
   "metadata": {},
   "outputs": [],
   "source": [
    "import ctypes\n",
    "\n",
    "class myList:\n",
    "    def __init__(self):\n",
    "        self.size = 1 # max items that can be stored in current list\n",
    "        self.n = 0 # number of items currently present in current list\n",
    "        self.Array = self.__make_array(self.size)\n",
    "\n",
    "    def __len__(self):\n",
    "        return self.n\n",
    "    \n",
    "    def __str__(self):\n",
    "        # we want to print our array as [item1, itemt2,...] format\n",
    "        result = \"\"\n",
    "        for i in range(self.n):\n",
    "            result = result + str(self.Array[i]) + \",\"\n",
    "        return \"[\" + result[:-1] + \"]\"\n",
    "    \n",
    "    def __getitem__(self, index):\n",
    "        if 0 <= index < self.n:\n",
    "            return self.Array[index]\n",
    "        else:\n",
    "            return \"IndexError - Index out of range\"\n",
    "\n",
    "    def __delitem__(self, position):\n",
    "        # delete\n",
    "        if 0 <= position < self.n:\n",
    "            for i in range(position, self.n - 1):\n",
    "                self.Array[i] = self.Array[i+1]\n",
    "            self.n = self.n - 1\n",
    "\n",
    "    def append(self, item):\n",
    "        if self.n == self.size:\n",
    "            # resize\n",
    "            self.__resize(self.size*2)\n",
    "        # append\n",
    "        self.Array[self.n] = item\n",
    "        self.n += 1\n",
    "\n",
    "    def pop(self):\n",
    "        if self.n == 0:\n",
    "            return \"Empty myList\"\n",
    "        print(self.Array[self.n - 1])\n",
    "        self.n = self.n - 1\n",
    "\n",
    "    def clear(self):\n",
    "        self.n = 0\n",
    "        self.size = 1\n",
    "\n",
    "    def find(self, item):\n",
    "        for i in range(self.n):\n",
    "            if self.Array[i] == item:\n",
    "                return i\n",
    "        return f\"ValueError - {item} is not in list\"\n",
    "\n",
    "    def insert(self, position, item):\n",
    "        if self.n == self.size:\n",
    "            self.__resize(self.size*2)\n",
    "        for i in range(self.n, position, -1):\n",
    "            self.Array[i] = self.Array[i-1] \n",
    "        self.Array[position] = item\n",
    "        self.n = self.n + 1\n",
    "\n",
    "    def remove(self, item):\n",
    "        position = self.find(item)\n",
    "        if type(position) == int:\n",
    "            #delete\n",
    "            self.__delitem(position)\n",
    "        else:\n",
    "            return position\n",
    "\n",
    "    def __resize(self, new_capacity):\n",
    "        # create a new array with new capacity\n",
    "        new_Array = self.__make_array(new_capacity)\n",
    "        self.size = new_capacity\n",
    "        # copy content of Array to new_Array\n",
    "        for i in range(self.n):\n",
    "            new_Array[i] = self.Array[i]\n",
    "        # reassign\n",
    "        self.Array = new_Array\n",
    "        \n",
    "    def __make_array(self, capacity):\n",
    "        # creates a C type array(static, referential) with size capacity\n",
    "        return (capacity*ctypes.py_object)()\n",
    "    \n",
    " "
   ]
  },
  {
   "cell_type": "code",
   "execution_count": 111,
   "metadata": {},
   "outputs": [],
   "source": [
    "L1 = myList()"
   ]
  },
  {
   "cell_type": "code",
   "execution_count": 6,
   "metadata": {},
   "outputs": [
    {
     "name": "stdout",
     "output_type": "stream",
     "text": [
      "<__main__.myList object at 0x0000023394377370>\n"
     ]
    }
   ],
   "source": [
    "print(L1)"
   ]
  },
  {
   "cell_type": "code",
   "execution_count": 15,
   "metadata": {},
   "outputs": [
    {
     "data": {
      "text/plain": [
       "0"
      ]
     },
     "execution_count": 15,
     "metadata": {},
     "output_type": "execute_result"
    }
   ],
   "source": [
    "len(L1)"
   ]
  },
  {
   "cell_type": "code",
   "execution_count": 112,
   "metadata": {},
   "outputs": [],
   "source": [
    "L1.append(\"hello\")\n",
    "L1.append(3.14)\n",
    "L1.append(100)\n",
    "L1.append(True)"
   ]
  },
  {
   "cell_type": "code",
   "execution_count": 108,
   "metadata": {},
   "outputs": [
    {
     "name": "stdout",
     "output_type": "stream",
     "text": [
      "True\n"
     ]
    }
   ],
   "source": [
    "L1.pop()     "
   ]
  },
  {
   "cell_type": "code",
   "execution_count": 113,
   "metadata": {},
   "outputs": [
    {
     "name": "stdout",
     "output_type": "stream",
     "text": [
      "[hello,3.14,100,True]\n"
     ]
    }
   ],
   "source": [
    "print(L1)"
   ]
  },
  {
   "cell_type": "code",
   "execution_count": 77,
   "metadata": {},
   "outputs": [
    {
     "data": {
      "text/plain": [
       "'IndexError - Index out of range'"
      ]
     },
     "execution_count": 77,
     "metadata": {},
     "output_type": "execute_result"
    }
   ],
   "source": [
    "L1[4]"
   ]
  },
  {
   "cell_type": "code",
   "execution_count": 89,
   "metadata": {},
   "outputs": [
    {
     "name": "stdout",
     "output_type": "stream",
     "text": [
      "[]\n"
     ]
    }
   ],
   "source": [
    "L1.clear()\n",
    "print(L1)"
   ]
  },
  {
   "cell_type": "code",
   "execution_count": 95,
   "metadata": {},
   "outputs": [
    {
     "data": {
      "text/plain": [
       "'ValueError - 105 is not in list'"
      ]
     },
     "execution_count": 95,
     "metadata": {},
     "output_type": "execute_result"
    }
   ],
   "source": [
    "L1.find(105)"
   ]
  },
  {
   "cell_type": "code",
   "execution_count": 115,
   "metadata": {},
   "outputs": [
    {
     "name": "stdout",
     "output_type": "stream",
     "text": [
      "[hello,apple,apple,3.14,100,True]\n"
     ]
    }
   ],
   "source": [
    "L1.insert(1, \"apple\")\n",
    "print(L1)"
   ]
  },
  {
   "cell_type": "code",
   "execution_count": null,
   "metadata": {},
   "outputs": [],
   "source": []
  }
 ],
 "metadata": {
  "kernelspec": {
   "display_name": "Python 3",
   "language": "python",
   "name": "python3"
  },
  "language_info": {
   "codemirror_mode": {
    "name": "ipython",
    "version": 3
   },
   "file_extension": ".py",
   "mimetype": "text/x-python",
   "name": "python",
   "nbconvert_exporter": "python",
   "pygments_lexer": "ipython3",
   "version": "3.10.7"
  }
 },
 "nbformat": 4,
 "nbformat_minor": 2
}
