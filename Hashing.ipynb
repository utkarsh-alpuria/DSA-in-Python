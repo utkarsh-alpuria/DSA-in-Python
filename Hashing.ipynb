{
 "cells": [
  {
   "cell_type": "code",
   "execution_count": null,
   "metadata": {},
   "outputs": [],
   "source": []
  },
  {
   "attachments": {
    "Hashing_Chaining.png": {
     "image/png": "[encoded data removed]"
    },
    "Linear_probing_clustering.png": {
     "image/png": "[encoded data removed]"
    }
   },
   "cell_type": "markdown",
   "metadata": {},
   "source": [
    "### HASHING ###\n",
    "\n",
    "#### Why Hashing? ####\n",
    "- Hashing provides fast searcing.\n",
    "- Python Dictionary works on Hashing.\n",
    "\n",
    "#### Comparing Some Searching Algorithims ####\n",
    "\n",
    "- **Linear Search** - check every item from start -> if get the item then break, time complexity is O(n).\n",
    "- **Binary Search** - sort the array -> compare middle item with the item -> if the item is smaller than the middle item do same in the first half of the array -> if the item is bigger than the middle item do same in the second half of the array, time complexity is O(logn).\n",
    "\n",
    "- Hashing do searching in constant time i.e. O(1) time complexity.\n",
    "- We put the item in array on a index position that you got from the hashing function.\n",
    "\n",
    "#### Example ####\n",
    "- [index0, index1, index2, index3, index4, index5] -> empty array.\n",
    "- We have to insert items (11, 22, 33, 44, 55, 100) in the array such that searching of element is in O(1).\n",
    "- Let hasing function be (index no. = item % 10) -> this can be any function according to situation.\n",
    "- 11 % 10 = 1 -> index1\n",
    "- 22 % 10 = 2 -> index2\n",
    "- 100 % 10 = 0 -> index0 ... so on\n",
    "- Now if we wnt to search a item in array we will pass the item in hashing function to get its index position directly in O(1).\n",
    "- Search for 55 -> 55 % 10 = 5 -> i.e. index5\n",
    "\n",
    "#### Problems #####\n",
    "- Hashing collision is very common -> when two item gets same hash value(index value) after hashing function.\n",
    "\n",
    "   - Let items be (31, 47, 16, 21, 37) | hashing function = item % len(array)\n",
    "   - 31 % 5 = 1\n",
    "   - 47 % 5 = 2\n",
    "   - 16 % 5 = 1 -> collision since index1 is already occupied by 31\n",
    "   - 21 % 5 = 1 -> again collision\n",
    "   - 37 % 5 = 2 -> collision since index2 is already occupied by 47\n",
    "\n",
    "#### Solution ####\n",
    "1) ##### Closed Addressing Technique #####\n",
    "   If collision occur. In Closed Addressing Tehnique, we keep item in same memory location.\n",
    "\n",
    "   - **Chaining** \n",
    "      - In chianing the array is made of LinkedList, each item of array is a linkedlist.\n",
    "      - If collision happen the a linked list is created from the coollising position node parallel to the array.\n",
    "\n",
    "        ![Hashing_Chaining.png](attachment:Hashing_Chaining.png)\n",
    "      - Problem in this is that there is a chance that chain size keep on increasing on a node and then again searching in that chain can go O(n) complexity.\n",
    "      - Solution\n",
    "      1) - **Rehashing** - We take a load factor -> if size of chain crosses load factor we increase the size of array -> and again start hashing from very start now with new array size.\n",
    "         - E.g. - let say size of chain crosses load factor -> we increase size of array from 5 to 8 -> new hasing function is (index = item % 8) -> we repeat this if any chain again cross the load factor. (31 % 8 = 7 | 47 % 8 = 7 | 16 % 8 = 0 | 21 % 8 = 5 | 37 % 8 = 5) \n",
    "      2) - **Balanced Tree** - We take a load factor -> if size of chain crosses load factor -> we convert the chain to a balanced tree -> large value goes to right child, small value goes to left child -> Searching time complexity in balanced tree is O(logn).\n",
    "         - The O(n) complexity of chain is now O(logn). \n",
    "         - This concept is used in Hash table of Java.\n",
    "\n",
    "2) ##### Open Adderessing Technique #####\n",
    "   If collision occur. In Open Addressing Technique, we keep the item in next empty memory location.\n",
    "\n",
    "   - **Linear Probing**\n",
    "      - let say we have to insert items(36, 41, 22, 37, 51) in [index0, index1, index2, index3, index4] such that searching is fast.\n",
    "      - lets again take hash function index = item % len(array)\n",
    "      - 36 % 5 = 1 -> index1\n",
    "      - 41 % 5 = 1 -> collision with 36\n",
    "      - In linear Probing we insert the item in next empty cell -> i.e. 41 goes at index2\n",
    "      - 22 % 5 = 2 -> collision with 41 -> 22 goes at index3\n",
    "      - 37 % 5 = 2 -> collosion with 41 -> 37 goes at index3 -> collision with 22 -> 37 goes to index4\n",
    "      - 51 % 5 = 1 -> collision at all index -> 51 goes to index0\n",
    "      - In linear probing we make sure that the array has more space than the number of item inserting.\n",
    "      - We achive the above process with below hash function.\n",
    "      - Hash Function of Linear Probing is `G(I) = [H(I) + K(I')] % Size` where `H(I) = I % Size` and `K(I')` is identity function i.e. `K(I') = I'`[K(0)=0, K(1)=1, K(2)=2...].\n",
    "      - If you are doing hashing for the first time for a item then I'=0, for second time I'=1, for third time I'=2 and so on.\n",
    "      - Problem with Linear Probing is that for a very big array it creates clusters of stored item and wastage of memory occur.\n",
    "\n",
    "        ![Linear_probing_clustering.png](attachment:Linear_probing_clustering.png)\n",
    "      - To reduce this wastage Quadratic Probing is introduced. \n",
    "   - **Quadratic Probing**\n",
    "      - Hash Function of Quadratic Probing is `G(I) = [H(I) + K(I')] % Size` where `H(I) = I % Size` and `K(I')` is identity function i.e. `K(I') = (I')^2`[K(0)=0, K(1)=1, K(2)=4, K(3)=9...].\n",
    "      - If you are doing hashing for the first time for a item then I'=0, for second time I'=1, for third time I'=2 and so on.\n",
    "\n",
    "\n",
    "**Linear Probing in Python Hashing**"
   ]
  },
  {
   "cell_type": "code",
   "execution_count": 155,
   "metadata": {},
   "outputs": [],
   "source": [
    "# we will create a class Dictionary taking size input.\n",
    "# we will create two arrays(slots and data) of same size in the constructor to store keys(slots) and values(data).\n",
    "# suppose we have pair (\"python\" : 37).\n",
    "# we will calculate hash value(index value) of \"python\"(key).\n",
    "# lets suppose hash value is 2 -> we will store \"python\" at index2 of slots array.\n",
    "# we will store 37 at index2 of data array.\n",
    "\n",
    "class Dictoinary:\n",
    "    def __init__(self, size):\n",
    "        self.size = size\n",
    "        self.slots = [None]*self.size \n",
    "        self.data = [None]*self.size\n",
    "    \n",
    "    def hash_function(self, key):\n",
    "        # returns the hash value(index value) for a key\n",
    "        return abs(hash(key)) % self.size # hash method of python give a integer hash value for any data(only immutable datatype) passed in it\n",
    "\n",
    "    def put(self, key, value):\n",
    "        hash_value = self.hash_function(key)\n",
    "\n",
    "        # case 1 -> index position is empty\n",
    "        if self.slots[hash_value] == None:\n",
    "            self.slots[hash_value] = key\n",
    "            self.data[hash_value] = value\n",
    "        #case 2 -> index position is not empty\n",
    "        else:\n",
    "            # case 1 -> same key already present -> that means user is updating value of key\n",
    "            if self.slots[hash_value] == key:\n",
    "                self.data[hash_value] = value\n",
    "            # case 2 -> new key value pair -> we do linear probing -> go to next empty(rehashing)\n",
    "            else:\n",
    "                new_hash_value = self.rehash(hash_value)\n",
    "                \n",
    "                while (self.slots[new_hash_value] != None) and (self.slots[new_hash_value] != key):\n",
    "                    new_hash_value = self.rehash(new_hash_value)\n",
    "\n",
    "                # if loop breaks from condition 1(self.slots[new_hash_value] != None)\n",
    "                if self.slots[new_hash_value] == None:\n",
    "                    self.slots[new_hash_value] = key\n",
    "                    self.data[new_hash_value] = value\n",
    "                # if loop breaks from condition 2(self.slots[new_hash_value] != key)\n",
    "                else:\n",
    "                    self.data[new_hash_value] = value\n",
    "\n",
    "    def __setitem__(self, key, value):\n",
    "        # to use python dictionary notation for adding or updating a pair\n",
    "        self.put(key, value)\n",
    "\n",
    "    def get(self, key):\n",
    "        start_position = self.hash_function(key)\n",
    "        current_position = start_position\n",
    "\n",
    "        while self.slots[current_position] != None: # if we encounter none that means the searched key was never put in the dictionary\n",
    "            # if key matches with key in slots \n",
    "            if self.slots[current_position] == key:\n",
    "                return self.data[current_position]\n",
    "            \n",
    "            current_position = self.rehash(current_position)\n",
    "            \n",
    "            # if we came back to starting position -> array has no empty element and also not the search key\n",
    "            if current_position == start_position:\n",
    "                return \"Not Found (reached start position)\"\n",
    "            \n",
    "        return \"Not Found (reached None)\"\n",
    "    \n",
    "    def __getitem__(self, key):\n",
    "        # to use python dictionary notation for getting a value from key\n",
    "        return self.get(key)\n",
    "    \n",
    "    def rehash(self, old_hash):\n",
    "        return (old_hash + 1) % self.size # becoz in linear probing we move to next\n",
    "\n",
    "    def __str__(self):\n",
    "        for i in range(len(self.slots)): # can also use self.size here\n",
    "            if self.slots[i] != None:\n",
    "                print(f\"{self.slots[i]} :- {self.data[i]}\")\n",
    "                \n",
    "        return \"\" \n",
    "    \n",
    "            \n"
   ]
  },
  {
   "cell_type": "code",
   "execution_count": 156,
   "metadata": {},
   "outputs": [
    {
     "data": {
      "text/plain": [
       "-5283742474819247656"
      ]
     },
     "execution_count": 156,
     "metadata": {},
     "output_type": "execute_result"
    }
   ],
   "source": [
    "hash(\"python\")"
   ]
  },
  {
   "cell_type": "code",
   "execution_count": 157,
   "metadata": {},
   "outputs": [
    {
     "name": "stdout",
     "output_type": "stream",
     "text": [
      "[None, None, None, None]\n",
      "[None, None, None, None]\n"
     ]
    }
   ],
   "source": [
    "d1 = Dictoinary(4)\n",
    "print(d1.slots)\n",
    "print(d1.data)"
   ]
  },
  {
   "cell_type": "code",
   "execution_count": 158,
   "metadata": {},
   "outputs": [],
   "source": [
    "d1.put(\"python\", 45)"
   ]
  },
  {
   "cell_type": "code",
   "execution_count": 159,
   "metadata": {},
   "outputs": [
    {
     "name": "stdout",
     "output_type": "stream",
     "text": [
      "['python', None, None, None]\n",
      "[45, None, None, None]\n"
     ]
    }
   ],
   "source": [
    "print(d1.slots)\n",
    "print(d1.data)"
   ]
  },
  {
   "cell_type": "code",
   "execution_count": 160,
   "metadata": {},
   "outputs": [],
   "source": [
    "d1.put(\"java\", 1200)"
   ]
  },
  {
   "cell_type": "code",
   "execution_count": 161,
   "metadata": {},
   "outputs": [],
   "source": [
    "d1[\"html\"] = 100 # due to __setitem__ magic method we are able to use this notation"
   ]
  },
  {
   "cell_type": "code",
   "execution_count": 162,
   "metadata": {},
   "outputs": [],
   "source": [
    "d1[\"python\"] = 80 # due to __setitem__ magic method we are able to use this notation"
   ]
  },
  {
   "cell_type": "code",
   "execution_count": 163,
   "metadata": {},
   "outputs": [
    {
     "name": "stdout",
     "output_type": "stream",
     "text": [
      "['python', 'java', 'html', None]\n",
      "[80, 1200, 100, None]\n"
     ]
    }
   ],
   "source": [
    "print(d1.slots)\n",
    "print(d1.data)"
   ]
  },
  {
   "cell_type": "code",
   "execution_count": 164,
   "metadata": {},
   "outputs": [
    {
     "name": "stdout",
     "output_type": "stream",
     "text": [
      "80\n",
      "1200\n",
      "100\n",
      "Not Found (reached None)\n"
     ]
    }
   ],
   "source": [
    "print(d1.get(\"python\"))\n",
    "print(d1.get(\"java\"))\n",
    "print(d1.get(\"html\"))\n",
    "print(d1.get(\"c\"))"
   ]
  },
  {
   "cell_type": "code",
   "execution_count": 165,
   "metadata": {},
   "outputs": [
    {
     "name": "stdout",
     "output_type": "stream",
     "text": [
      "Not Found (reached start position)\n",
      "80\n"
     ]
    }
   ],
   "source": [
    "d1[\"c\"] = 30\n",
    "print(d1.get(\"c++\"))\n",
    "print(d1[\"python\"]) # due to __getitem__ magic method we are able to use this notation"
   ]
  },
  {
   "cell_type": "code",
   "execution_count": 166,
   "metadata": {},
   "outputs": [
    {
     "name": "stdout",
     "output_type": "stream",
     "text": [
      "python :- 80\n",
      "java :- 1200\n",
      "html :- 100\n",
      "c :- 30\n",
      "\n"
     ]
    }
   ],
   "source": [
    "print(d1)"
   ]
  },
  {
   "cell_type": "markdown",
   "metadata": {},
   "source": [
    "**Ouadratic Probing in Python Hashing**"
   ]
  },
  {
   "cell_type": "code",
   "execution_count": null,
   "metadata": {},
   "outputs": [],
   "source": [
    "# for implementing quadratic probing you just have to change the rehashing function\n",
    "\n",
    "def rehash(self, old_hash):\n",
    "        return (old_hash + 1) % self.size\n",
    "\n",
    "# instead of (old_hash + 1) -> (old_hash + (I')^2)\n",
    "# K(I') = (I')^2 -> [K(0)=0, K(1)=1, K(2)=4, K(3)=9...]"
   ]
  },
  {
   "cell_type": "markdown",
   "metadata": {},
   "source": [
    "**Chaining in Python Hashing**"
   ]
  },
  {
   "cell_type": "code",
   "execution_count": 338,
   "metadata": {},
   "outputs": [],
   "source": [
    "# we will create an array of LinkedList\n",
    "# therefore, first we need a linkedList class\n",
    "\n",
    "class Node:\n",
    "    def __init__(self, key, value):\n",
    "        self.key = key\n",
    "        self.value = value\n",
    "        self.next = None\n",
    "\n",
    "class LinkedList:\n",
    "    def __init__(self):\n",
    "        self.head = None \n",
    "\n",
    "    def add(self, key, value):\n",
    "        new_node = Node(key, value)\n",
    "        if self.head == None: # if first place is empty\n",
    "            self.head = new_node # insert in first place\n",
    "        else: # else traverse and insert at tail(or first empty place)\n",
    "            current = self.head\n",
    "\n",
    "            while current.next != None:\n",
    "                current = current.next\n",
    "            current.next = new_node\n",
    "    \n",
    "    def delete_head(self):\n",
    "        if self.head == None: # if empty LL\n",
    "            return \"Empty\"\n",
    "        else:\n",
    "            self.head = self.head.next\n",
    "\n",
    "    def remove(self, key):\n",
    "        if self.head.key == key:\n",
    "            self.delete_head()\n",
    "            return\n",
    "\n",
    "        if self.head == None: \n",
    "            return \"Empty\"\n",
    "        else:\n",
    "            current = self.head\n",
    "            while current.next != None:\n",
    "                if current.next.key == key: \n",
    "                    break \n",
    "                current = current.next\n",
    "\n",
    "        if current.next == None:\n",
    "            return \"Not Found\"\n",
    "        else:\n",
    "            current.next = current.next.next \n",
    "    \n",
    "    def traverse(self):\n",
    "        current = self.head\n",
    "        while current != None:\n",
    "            print(current.key, \"->\", current.value)\n",
    "            current = current.next\n",
    "    \n",
    "    def size(self):\n",
    "        current = self.head\n",
    "        counter = 0\n",
    "        while current != None:\n",
    "            counter += 1\n",
    "            current = current.next\n",
    "        return counter\n",
    "     \n",
    "    def search(self, key):\n",
    "        current = self.head\n",
    "        position = 0\n",
    "        while current != None:\n",
    "            if current.key == key:\n",
    "                return position\n",
    "            current = current.next\n",
    "            position = position + 1  \n",
    "        return -1\n",
    "\n",
    "    def get_node_at_index(self, index):\n",
    "        current = self.head\n",
    "        counter = 0\n",
    "        while current is not None:\n",
    "            if counter == index:\n",
    "                return current\n",
    "            current = current.next\n",
    "            counter += 1\n",
    "\n",
    "\n",
    "class Dictionary:\n",
    "    def __init__(self, capacity):\n",
    "        self.capacity = capacity\n",
    "        self.size = 0\n",
    "        # create array of LinkedList\n",
    "        self.buckets = self.make_array(self.capacity) # every LinkedList in this array is called a bucket thus array is called buckets\n",
    "\n",
    "    def make_array(self, capacity):\n",
    "        L = [] # create empty array\n",
    "         # add LinkedList object in array according to the capacity\n",
    "        for i in range(capacity): # we didn't use [LinkedList()]*capacity -> because this will add same LL object in array\n",
    "            L.append(LinkedList()) # we used loop becoz it append different and new LL objects each time.\n",
    "        return L\n",
    "    \n",
    "    def __setitem__(self, key, value): # to use python dictionary syntax for adding item\n",
    "        self.put(key, value)\n",
    "    \n",
    "    def put(self, key, value):\n",
    "        bucket_index = self.hash_function(key)\n",
    "        node_index = self.get_node_index(bucket_index, key)\n",
    "\n",
    "        if node_index == -1:\n",
    "            # insert new key value pair\n",
    "            self.buckets[bucket_index].add(key, value)\n",
    "            self.size += 1\n",
    "\n",
    "            load_factor = self.size / self.capacity\n",
    "            # print(load_factor)\n",
    "            if (load_factor >= 2): # checking loadfactor after every new insert for rehashing\n",
    "                self.rehash()\n",
    "        else:\n",
    "            # update existing pair\n",
    "            existing_node = self.buckets[bucket_index].get_node_at_index(node_index)\n",
    "            existing_node.value = value\n",
    "\n",
    "    def __getitem__(self, key):\n",
    "        return self.get(key)\n",
    "\n",
    "    def get(self, key):\n",
    "        bucket_index = self.hash_function(key)\n",
    "        response_index = self.buckets[bucket_index].search(key)\n",
    "\n",
    "        if response_index == -1:\n",
    "            return f\"No item with key {key}\"\n",
    "        else:\n",
    "            node = self.buckets[bucket_index].get_node_at_index(response_index)\n",
    "            return node.value\n",
    "\n",
    "    def __delitem__(self, key):\n",
    "        bucket_index = self.hash_function(key)\n",
    "        self.buckets[bucket_index].remove(key)\n",
    "\n",
    "    def rehash(self):\n",
    "        self.capacity = self.capacity * 2 # increase the capacity of array\n",
    "        old_buckets = self.buckets # save the current array(buckets) as old_buckets\n",
    "        self.size = 0 # making the size of array zero again\n",
    "        self.buckets = self.make_array(self.capacity) # make new array with new capacity\n",
    "\n",
    "        # populate the new buckets by taking out items from old_buckets\n",
    "        for i in old_buckets: # for every LinkedList(bucket) in array(buckets)\n",
    "            for j in range(i.size()): # iterating every node of bucket\n",
    "                node = i.get_node_at_index(j)\n",
    "                node_key = node.key\n",
    "                node_value = node.value\n",
    "                self.put(node_key, node_value)\n",
    "\n",
    "    def get_node_index(self, bucket_index, key):\n",
    "        node_index = self.buckets[bucket_index].search(key)\n",
    "        return node_index\n",
    "\n",
    "    def hash_function(self, key):\n",
    "        return abs(hash(key)) % self.capacity\n",
    "\n",
    "    def __str__(self):\n",
    "        for i in self.buckets:\n",
    "            i.traverse()\n",
    "    \n",
    "        return \"\"\n"
   ]
  },
  {
   "cell_type": "code",
   "execution_count": 339,
   "metadata": {},
   "outputs": [],
   "source": [
    "L = LinkedList()\n",
    "L.add(2,3)\n",
    "L.add(4,5)\n",
    "L.add(7,9)"
   ]
  },
  {
   "cell_type": "code",
   "execution_count": 340,
   "metadata": {},
   "outputs": [
    {
     "name": "stdout",
     "output_type": "stream",
     "text": [
      "2 -> 3\n",
      "4 -> 5\n",
      "7 -> 9\n"
     ]
    }
   ],
   "source": [
    "L.traverse()"
   ]
  },
  {
   "cell_type": "code",
   "execution_count": 348,
   "metadata": {},
   "outputs": [
    {
     "data": {
      "text/plain": [
       "[<__main__.LinkedList at 0x1ff37e6bbe0>,\n",
       " <__main__.LinkedList at 0x1ff37e69d50>,\n",
       " <__main__.LinkedList at 0x1ff37e6a1d0>,\n",
       " <__main__.LinkedList at 0x1ff37e6be20>]"
      ]
     },
     "execution_count": 348,
     "metadata": {},
     "output_type": "execute_result"
    }
   ],
   "source": [
    "D1 = Dictionary(4)\n",
    "D1.buckets"
   ]
  },
  {
   "cell_type": "code",
   "execution_count": 349,
   "metadata": {},
   "outputs": [],
   "source": [
    "D1[\"python\"] = 100\n",
    "D1[\"javascript\"] = 200"
   ]
  },
  {
   "cell_type": "code",
   "execution_count": 350,
   "metadata": {},
   "outputs": [
    {
     "data": {
      "text/plain": [
       "100"
      ]
     },
     "execution_count": 350,
     "metadata": {},
     "output_type": "execute_result"
    }
   ],
   "source": [
    "D1[\"python\"]"
   ]
  },
  {
   "cell_type": "code",
   "execution_count": 351,
   "metadata": {},
   "outputs": [],
   "source": [
    "D1.put(\"javascript\", 600)\n",
    "D1[\"php\"] = 120\n",
    "D1[\"html\"] = 120\n",
    "D1[\"css\"] = 120"
   ]
  },
  {
   "cell_type": "code",
   "execution_count": 352,
   "metadata": {},
   "outputs": [
    {
     "name": "stdout",
     "output_type": "stream",
     "text": [
      "python -> 100\n",
      "css -> 120\n",
      "javascript -> 600\n",
      "html -> 120\n",
      "php -> 120\n",
      "\n"
     ]
    }
   ],
   "source": [
    "print(D1)"
   ]
  },
  {
   "cell_type": "code",
   "execution_count": 353,
   "metadata": {},
   "outputs": [],
   "source": [
    "del D1[\"python\"]"
   ]
  },
  {
   "cell_type": "code",
   "execution_count": 354,
   "metadata": {},
   "outputs": [
    {
     "data": {
      "text/plain": [
       "'No item with key python'"
      ]
     },
     "execution_count": 354,
     "metadata": {},
     "output_type": "execute_result"
    }
   ],
   "source": [
    "D1[\"python\"]"
   ]
  },
  {
   "cell_type": "code",
   "execution_count": 355,
   "metadata": {},
   "outputs": [
    {
     "name": "stdout",
     "output_type": "stream",
     "text": [
      "css -> 120\n",
      "javascript -> 600\n",
      "html -> 120\n",
      "php -> 120\n",
      "\n"
     ]
    }
   ],
   "source": [
    "print(D1)"
   ]
  },
  {
   "cell_type": "markdown",
   "metadata": {},
   "source": [
    "**Hashing Implementation using List**"
   ]
  },
  {
   "cell_type": "code",
   "execution_count": 14,
   "metadata": {},
   "outputs": [],
   "source": [
    "class HashTable:\n",
    "    def __init__(self):\n",
    "        self.MAX = 10\n",
    "        self.arr = [None for i in range(self.MAX)] # list with all element None\n",
    "\n",
    "    def hash_function(self, key):\n",
    "        h = 0\n",
    "        for cha in key:\n",
    "            h += ord(cha) # sum of ASCII value of all the character in key \n",
    "        return h % self.MAX\n",
    "    \n",
    "    def __setitem__(self, key, value):\n",
    "        hash_value = self.hash_function(key)\n",
    "        self.arr[hash_value] = value\n",
    "\n",
    "    def __getitem__(self, key):\n",
    "        hash_value = self.hash_function(key)\n",
    "        return self.arr[hash_value]"
   ]
  },
  {
   "cell_type": "code",
   "execution_count": 19,
   "metadata": {},
   "outputs": [
    {
     "name": "stdout",
     "output_type": "stream",
     "text": [
      "[None, None, 1, None, 4, None, 3, None, None, None]\n"
     ]
    }
   ],
   "source": [
    "H = HashTable()\n",
    "H[\"one\"] = 1\n",
    "H[\"four\"] = 4\n",
    "H[\"three\"] = 3\n",
    "print(H.arr)"
   ]
  },
  {
   "cell_type": "code",
   "execution_count": 18,
   "metadata": {},
   "outputs": [
    {
     "data": {
      "text/plain": [
       "1"
      ]
     },
     "execution_count": 18,
     "metadata": {},
     "output_type": "execute_result"
    }
   ],
   "source": [
    "H[\"one\"]"
   ]
  },
  {
   "cell_type": "code",
   "execution_count": 22,
   "metadata": {},
   "outputs": [],
   "source": [
    "# chaining to prevent collision\n",
    "\n",
    "class HashTable:\n",
    "    def __init__(self):\n",
    "        self.MAX = 10\n",
    "        self.arr = [[] for i in range(self.MAX)] # list of empty lists\n",
    "\n",
    "    def hash_function(self, key):\n",
    "        h = 0\n",
    "        for cha in key:\n",
    "            h += ord(cha) # sum of ASCII value of all the character in key \n",
    "        return h % self.MAX\n",
    "    \n",
    "    def __setitem__(self, key, value):\n",
    "        hash_value = self.hash_function(key)\n",
    "        already_exist = False\n",
    "        # check if key value pair already exist\n",
    "        for idx, pair in enumerate(self.arr[hash_value]):\n",
    "            if len(pair) == 2 and pair[0] == key: # exists -> update existing value\n",
    "                self.arr[hash_value][idx] == (key, value) # replace previous pair with new pair\n",
    "                already_exist = True\n",
    "                break\n",
    "            \n",
    "        if not already_exist:\n",
    "        # key value pair does not exist -> add new pair\n",
    "            self.arr[hash_value].append((key, value)) # adding (key,value) tupple in list at index = hash_value\n",
    "\n",
    "    def __getitem__(self, key):\n",
    "        hash_value = self.hash_function(key)\n",
    "        for pair in self.arr[hash_value]:\n",
    "            if pair[0] == key:\n",
    "                return pair[1]\n",
    "            \n",
    "    def __delitem__(self, key):\n",
    "        hash_value = self.hash_function(key)\n",
    "        for idx, pair in enumerate(self.arr[hash_value]):\n",
    "            if pair[0] == key:\n",
    "                del self.arr[hash_value][idx]"
   ]
  },
  {
   "cell_type": "code",
   "execution_count": 23,
   "metadata": {},
   "outputs": [
    {
     "data": {
      "text/plain": [
       "[[],\n",
       " [],\n",
       " [('one', 1)],\n",
       " [],\n",
       " [('four', 4)],\n",
       " [],\n",
       " [('two', 2), ('three', 3)],\n",
       " [],\n",
       " [],\n",
       " []]"
      ]
     },
     "execution_count": 23,
     "metadata": {},
     "output_type": "execute_result"
    }
   ],
   "source": [
    "H2 = HashTable()\n",
    "H2[\"one\"] = 1\n",
    "H2[\"two\"] = 2\n",
    "H2[\"three\"] = 3\n",
    "H2[\"four\"] = 4\n",
    "\n",
    "H2.arr"
   ]
  },
  {
   "cell_type": "code",
   "execution_count": 29,
   "metadata": {},
   "outputs": [
    {
     "data": {
      "text/plain": [
       "3"
      ]
     },
     "execution_count": 29,
     "metadata": {},
     "output_type": "execute_result"
    }
   ],
   "source": [
    "H2[\"three\"]"
   ]
  }
 ],
 "metadata": {
  "kernelspec": {
   "display_name": "Python 3",
   "language": "python",
   "name": "python3"
  },
  "language_info": {
   "codemirror_mode": {
    "name": "ipython",
    "version": 3
   },
   "file_extension": ".py",
   "mimetype": "text/x-python",
   "name": "python",
   "nbconvert_exporter": "python",
   "pygments_lexer": "ipython3",
   "version": "3.10.7"
  }
 },
 "nbformat": 4,
 "nbformat_minor": 2
}
