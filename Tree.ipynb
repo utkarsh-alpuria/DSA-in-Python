{
 "cells": [
  {
   "cell_type": "code",
   "execution_count": null,
   "metadata": {},
   "outputs": [],
   "source": []
  },
  {
   "cell_type": "markdown",
   "metadata": {},
   "source": [
    "### TREE ###\n",
    "\n",
    "- Data Structure used for Hirarchial data.\n",
    "- **Root** node is the node with no parent node.\n",
    "- **Leaf** node is the node with no child.\n"
   ]
  },
  {
   "cell_type": "code",
   "execution_count": 24,
   "metadata": {},
   "outputs": [],
   "source": [
    "class TreeNode:\n",
    "    def __init__(self, data):\n",
    "        self.data = data\n",
    "        self.children = []\n",
    "        self.parent = None\n",
    "\n",
    "    def add_child(self, child):\n",
    "        child.parent = self\n",
    "        self.children.append(child)\n",
    "\n",
    "    def get_level(self):\n",
    "        # level can be equal to no. of ancestors\n",
    "        level = 0\n",
    "        p = self.parent\n",
    "        while p:\n",
    "            level += 1\n",
    "            p = p.parent\n",
    "        return level\n",
    "\n",
    "    def print_tree(self):\n",
    "        print(\"    \"*self.get_level() + \"|__\" + self.data)\n",
    "        if self.children:\n",
    "            for child in self.children:\n",
    "                child.print_tree()\n"
   ]
  },
  {
   "cell_type": "code",
   "execution_count": 25,
   "metadata": {},
   "outputs": [],
   "source": [
    "def build_product_tree():\n",
    "    root = TreeNode(\"Electronics\")\n",
    "\n",
    "    Laptop = TreeNode(\"Laptop\")\n",
    "    Laptop.add_child(TreeNode(\"Mackbook\"))\n",
    "    Laptop.add_child(TreeNode(\"HP Omen\"))\n",
    "    Laptop.add_child(TreeNode(\"Microsoft book\"))\n",
    "\n",
    "    SmartPhone = TreeNode(\"SmartPhone\")\n",
    "    SmartPhone.add_child(TreeNode(\"Iphone 14\"))\n",
    "    SmartPhone.add_child(TreeNode(\"Moto Edge 40\"))\n",
    "    SmartPhone.add_child(TreeNode(\"Pixel 7A\"))\n",
    "\n",
    "    Tablet = TreeNode(\"Tablet\")\n",
    "    Tablet.add_child(TreeNode(\"Ipad\"))\n",
    "    Tablet.add_child(TreeNode(\"Xiaomi pad6\"))\n",
    "    Tablet.add_child(TreeNode(\"Samsung tab9\"))\n",
    "\n",
    "    root.add_child(Laptop)\n",
    "    root.add_child(SmartPhone)\n",
    "    root.add_child(Tablet)\n",
    "\n",
    "    return root\n"
   ]
  },
  {
   "cell_type": "code",
   "execution_count": 26,
   "metadata": {},
   "outputs": [
    {
     "name": "stdout",
     "output_type": "stream",
     "text": [
      "|__Electronics\n",
      "    |__Laptop\n",
      "        |__Mackbook\n",
      "        |__HP Omen\n",
      "        |__Microsoft book\n",
      "    |__SmartPhone\n",
      "        |__Iphone 14\n",
      "        |__Moto Edge 40\n",
      "        |__Pixel 7A\n",
      "    |__Tablet\n",
      "        |__Ipad\n",
      "        |__Xiaomi pad6\n",
      "        |__Samsung tab9\n"
     ]
    }
   ],
   "source": [
    "product_tree = build_product_tree()\n",
    "product_tree.print_tree()"
   ]
  },
  {
   "attachments": {
    "binary_search_tree.png": {
     "image/png": "[encoded data removed]"
    }
   },
   "cell_type": "markdown",
   "metadata": {},
   "source": [
    "**Binary Tree**\n",
    "\n",
    "- Every node has atmost 2 child nodes.\n",
    "- To implement Set you can use binary search tree.\n",
    "\n",
    "**Binary Search Tree**\n",
    "\n",
    "- Special case of Binary Tree, with special order of nodes\n",
    "- All right hand nodes are greater than their parent node and lrft hand nodes are smaller.\n",
    "- Search complexity is O(logn)\n",
    "- Node insertion complexity is O(logn)\n",
    "\n",
    "    ![binary_search_tree.png](attachment:binary_search_tree.png)\n",
    "- Traversal\n",
    "    - Breadt First Search\n",
    "    - Depth First Search\n",
    "        - In Order Traversal [7,12,14,15,20,23,27,88]\n",
    "        - Pre Order Traversal [15,12,7,14,27,20,23,88]\n",
    "        - Post Order Traversal [7,14,12,23,20,88,27,15]\n",
    "- In Order Traversal sort the array."
   ]
  },
  {
   "cell_type": "code",
   "execution_count": 116,
   "metadata": {},
   "outputs": [],
   "source": [
    "class BinarySearchTreeNode:\n",
    "    def __init__(self, data):\n",
    "        self.data = data\n",
    "        self.right = None\n",
    "        self.left = None\n",
    "\n",
    "    def add_child(self, data):\n",
    "        if self.data == data: # binary search tree do not have duplicate value\n",
    "            return\n",
    "        \n",
    "        if data < self.data:\n",
    "            # add data in left subtree\n",
    "\n",
    "            if self.left: # already a left child node present\n",
    "                self.left.add_child(data) # recursive call to add child\n",
    "            else: # no node present -> add this node\n",
    "                self.left = BinarySearchTreeNode(data)\n",
    "        else:\n",
    "            # add data to right subtree \n",
    "\n",
    "            if self.right: # already a right child node present\n",
    "                self.right.add_child(data) # recursive call to add child\n",
    "            else: # no node present -> add this node\n",
    "                self.right = BinarySearchTreeNode(data)\n",
    "\n",
    "    def in_order_traversal(self): \n",
    "        elements = []\n",
    "\n",
    "        # visit left tree\n",
    "        if self.left:\n",
    "            elements += self.left.in_order_traversal()\n",
    "\n",
    "        # visit base node\n",
    "        elements.append(self.data)\n",
    "\n",
    "        # visit right tree\n",
    "        if self.right:\n",
    "            elements += self.right.in_order_traversal()\n",
    "\n",
    "        return elements\n",
    "    \n",
    "    def pre_order_traversal(self):\n",
    "        elements = [self.data]\n",
    "\n",
    "        if self.left:\n",
    "            elements += self.left.pre_order_traversal()\n",
    "\n",
    "        if self.right:\n",
    "            elements += self.right.pre_order_traversal()\n",
    "        \n",
    "        return elements\n",
    "    \n",
    "    def post_order_traversal(self):\n",
    "        elements = []\n",
    "        \n",
    "        if self.left:\n",
    "            elements += self.left.post_order_traversal()\n",
    "\n",
    "        # visit right tree\n",
    "        if self.right:\n",
    "            elements += self.right.post_order_traversal()\n",
    "\n",
    "        elements.append(self.data)\n",
    "\n",
    "        return elements\n",
    "    \n",
    "    def search(self, value): # O(logn) search complexity\n",
    "        \n",
    "        if self.data == value:\n",
    "            return True\n",
    "        \n",
    "        if value < self.data:\n",
    "            # value might be in left sub tree\n",
    "            if self.left:\n",
    "                return self.left.search(value)\n",
    "            else:\n",
    "                return False\n",
    "\n",
    "        if value > self.data:\n",
    "            # value might be in right sub tree\n",
    "            if self.right:\n",
    "                return self.right.search(value)\n",
    "            else:\n",
    "                return False\n",
    "        \n",
    "    def find_min(self):\n",
    "        if self.left == None:\n",
    "            return self.data\n",
    "        if self.left:\n",
    "            return self.left.find_min()\n",
    "        \n",
    "    def find_max(self):\n",
    "        if self.right == None:\n",
    "            return self.data\n",
    "        if self.right:\n",
    "            return self.right.find_max()\n",
    "\n",
    "    def sum(self):\n",
    "        left_sum = 0\n",
    "        right_sum = 0\n",
    "        if self.left:\n",
    "            left_sum = self.left.sum()\n",
    "        else:\n",
    "            left_sum = 0\n",
    "        \n",
    "        if self.right:\n",
    "            right_sum = self.right.sum()\n",
    "        else:\n",
    "            right_sum = 0\n",
    "        return self.data + left_sum + right_sum\n",
    "        \n",
    "    def delete(self, value):\n",
    "        if value < self.data:\n",
    "            if self.left:\n",
    "                self.left = self.left.delete(value)\n",
    "        elif value > self.data:\n",
    "            if self.right:\n",
    "                self.right = self.right.delete(value)\n",
    "        else:\n",
    "            if self.left == None and self.right == None:\n",
    "                return None\n",
    "            if self.left is None:\n",
    "                return self.right\n",
    "            if self.right is None:\n",
    "                return self.left\n",
    "            \n",
    "            min_val = self.right.find_min()\n",
    "            self.data = min_val\n",
    "            self.right = self.right.delete(min_val)\n",
    "        return self\n",
    "\n",
    "            \n"
   ]
  },
  {
   "cell_type": "code",
   "execution_count": 117,
   "metadata": {},
   "outputs": [],
   "source": [
    "def build_binary_tree(array):\n",
    "    root = BinarySearchTreeNode(array[0])\n",
    "\n",
    "    for i in range(1, len(array)):\n",
    "        root.add_child(array[i])\n",
    "\n",
    "    return root\n",
    "\n",
    "bst = build_binary_tree([17, 4, 1, 20, 9, 23, 18, 34])"
   ]
  },
  {
   "cell_type": "code",
   "execution_count": 118,
   "metadata": {},
   "outputs": [
    {
     "name": "stdout",
     "output_type": "stream",
     "text": [
      "[1, 4, 9, 17, 18, 20, 23, 34]\n",
      "[17, 4, 1, 9, 20, 18, 23, 34]\n",
      "[1, 9, 4, 18, 34, 23, 20, 17]\n"
     ]
    }
   ],
   "source": [
    "print(bst.in_order_traversal()) # in order traversal sort the array\n",
    "print(bst.pre_order_traversal()) \n",
    "print(bst.post_order_traversal()) "
   ]
  },
  {
   "cell_type": "code",
   "execution_count": 119,
   "metadata": {},
   "outputs": [
    {
     "name": "stdout",
     "output_type": "stream",
     "text": [
      "[1, 4, 9, 17, 18, 20, 23, 34]\n"
     ]
    }
   ],
   "source": [
    "bst2 = build_binary_tree([17, 4, 1, 4, 20, 9, 9, 23, 23, 18, 34]) # do not allow same element -> implement SET\n",
    "print(bst.in_order_traversal())"
   ]
  },
  {
   "cell_type": "code",
   "execution_count": 120,
   "metadata": {},
   "outputs": [
    {
     "data": {
      "text/plain": [
       "True"
      ]
     },
     "execution_count": 120,
     "metadata": {},
     "output_type": "execute_result"
    }
   ],
   "source": [
    "bst.search(9) "
   ]
  },
  {
   "cell_type": "code",
   "execution_count": 121,
   "metadata": {},
   "outputs": [
    {
     "data": {
      "text/plain": [
       "1"
      ]
     },
     "execution_count": 121,
     "metadata": {},
     "output_type": "execute_result"
    }
   ],
   "source": [
    "bst.find_min()"
   ]
  },
  {
   "cell_type": "code",
   "execution_count": 122,
   "metadata": {},
   "outputs": [
    {
     "data": {
      "text/plain": [
       "34"
      ]
     },
     "execution_count": 122,
     "metadata": {},
     "output_type": "execute_result"
    }
   ],
   "source": [
    "bst.find_max()"
   ]
  },
  {
   "cell_type": "code",
   "execution_count": 123,
   "metadata": {},
   "outputs": [
    {
     "data": {
      "text/plain": [
       "126"
      ]
     },
     "execution_count": 123,
     "metadata": {},
     "output_type": "execute_result"
    }
   ],
   "source": [
    "bst.sum()"
   ]
  },
  {
   "cell_type": "code",
   "execution_count": 124,
   "metadata": {},
   "outputs": [
    {
     "name": "stdout",
     "output_type": "stream",
     "text": [
      "[1, 4, 9, 17, 18, 20, 34]\n"
     ]
    }
   ],
   "source": [
    "bst.delete(23)\n",
    "print(bst.in_order_traversal())"
   ]
  },
  {
   "cell_type": "code",
   "execution_count": 30,
   "metadata": {},
   "outputs": [
    {
     "data": {
      "text/plain": [
       "True"
      ]
     },
     "execution_count": 30,
     "metadata": {},
     "output_type": "execute_result"
    }
   ],
   "source": [
    "str_bst = build_binary_tree([\"India\", \"Python\", \"USA\", \"Africa\", \"Japan\", \"China\", \"Russia\"])\n",
    "str_bst.search(\"Japan\")"
   ]
  }
 ],
 "metadata": {
  "kernelspec": {
   "display_name": "Python 3",
   "language": "python",
   "name": "python3"
  },
  "language_info": {
   "codemirror_mode": {
    "name": "ipython",
    "version": 3
   },
   "file_extension": ".py",
   "mimetype": "text/x-python",
   "name": "python",
   "nbconvert_exporter": "python",
   "pygments_lexer": "ipython3",
   "version": "3.10.7"
  }
 },
 "nbformat": 4,
 "nbformat_minor": 2
}
